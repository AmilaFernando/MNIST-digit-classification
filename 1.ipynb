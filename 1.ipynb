{
  "nbformat": 4,
  "nbformat_minor": 0,
  "metadata": {
    "colab": {
      "name": "1",
      "provenance": [],
      "collapsed_sections": []
    },
    "kernelspec": {
      "name": "python3",
      "display_name": "Python 3"
    }
  },
  "cells": [
    {
      "cell_type": "code",
      "metadata": {
        "id": "mgadDiWqlrQm"
      },
      "source": [
        "## Import libraries\r\n",
        "import numpy as np\r\n",
        "from matplotlib import pyplot as plt\r\n",
        "from tensorflow import keras\r\n",
        "from keras.datasets import mnist\r\n",
        "from tensorflow.keras import layers\r\n",
        "from keras.layers import Dense, Conv2D, Flatten\r\n"
      ],
      "execution_count": null,
      "outputs": []
    },
    {
      "cell_type": "code",
      "metadata": {
        "id": "VZD5l8_loM3B"
      },
      "source": [
        "# Load test and train data\r\n",
        "(X_train, Y_train), (X_test, Y_test) = mnist.load_data()"
      ],
      "execution_count": null,
      "outputs": []
    },
    {
      "cell_type": "code",
      "metadata": {
        "colab": {
          "base_uri": "https://localhost:8080/"
        },
        "id": "bqHV41mevSQC",
        "outputId": "8a8be7ac-199c-4f63-bc26-375ee70a5071"
      },
      "source": [
        "# Understanding test and train data\r\n",
        "print(type(X_train))\r\n",
        "print(type(Y_train))\r\n",
        "print(type(X_test))\r\n",
        "print(type(Y_test))\r\n",
        "\r\n",
        "print(X_train.shape) \r\n",
        "print(Y_train.shape) \r\n",
        "print(X_test.shape) \r\n",
        "print(Y_test.shape)"
      ],
      "execution_count": null,
      "outputs": [
        {
          "output_type": "stream",
          "text": [
            "<class 'numpy.ndarray'>\n",
            "<class 'numpy.ndarray'>\n",
            "<class 'numpy.ndarray'>\n",
            "<class 'numpy.ndarray'>\n",
            "(60000, 28, 28)\n",
            "(60000,)\n",
            "(10000, 28, 28)\n",
            "(10000,)\n"
          ],
          "name": "stdout"
        }
      ]
    },
    {
      "cell_type": "code",
      "metadata": {
        "colab": {
          "base_uri": "https://localhost:8080/"
        },
        "id": "OKIhKDERwhK1",
        "outputId": "4725221b-5f4f-4b4e-d0fd-e60be51ea646"
      },
      "source": [
        "X_train = np.expand_dims(X_train, -1)\r\n",
        "X_test = np.expand_dims(X_test, -1)\r\n",
        "\r\n",
        "X_train = X_train.astype('float32')\r\n",
        "X_test = X_test.astype('float32')\r\n",
        "\r\n",
        "# check the min and max values\r\n",
        "np.min(X_train), np.max(X_train)\r\n",
        "#np.min(Y_train), np.max(Y_test)\r\n",
        "\r\n"
      ],
      "execution_count": null,
      "outputs": [
        {
          "output_type": "execute_result",
          "data": {
            "text/plain": [
              "(0.0, 255.0)"
            ]
          },
          "metadata": {
            "tags": []
          },
          "execution_count": 37
        }
      ]
    },
    {
      "cell_type": "code",
      "metadata": {
        "colab": {
          "base_uri": "https://localhost:8080/"
        },
        "id": "RyUT4V14ygWA",
        "outputId": "f152566a-4428-4267-978f-36aae13363d4"
      },
      "source": [
        "# Normalize the data\r\n",
        "X_train /= 255\r\n",
        "X_test /= 255\r\n",
        "\r\n",
        "# Check min and max values\r\n",
        "np.min(X_train), np.max(X_train)\r\n"
      ],
      "execution_count": null,
      "outputs": [
        {
          "output_type": "execute_result",
          "data": {
            "text/plain": [
              "(0.0, 1.0)"
            ]
          },
          "metadata": {
            "tags": []
          },
          "execution_count": 38
        }
      ]
    },
    {
      "cell_type": "code",
      "metadata": {
        "id": "WaYwCAPszowS"
      },
      "source": [
        "# make y data categorical\r\n",
        "no_of_classes = 10\r\n",
        "Y_train = keras.utils.to_categorical(Y_train, no_of_classes)\r\n",
        "Y_test = keras.utils.to_categorical(Y_test, no_of_classes)"
      ],
      "execution_count": null,
      "outputs": []
    },
    {
      "cell_type": "code",
      "metadata": {
        "id": "eZ1mdBa412Bg"
      },
      "source": [
        "# Model\r\n",
        "model = keras.Sequential()\r\n",
        "\r\n",
        "# Add Layers\r\n",
        "model.add(layers.Conv2D(32, (3, 3), activation='relu', input_shape=(28, 28, 1)))\r\n",
        "model.add(layers.MaxPooling2D((2, 2)))\r\n",
        "model.add(layers.Conv2D(64, (3, 3), activation='relu'))\r\n",
        "model.add(layers.MaxPooling2D((2, 2)))\r\n",
        "model.add(Flatten())\r\n",
        "model.add(Dense(10, activation='softmax'))"
      ],
      "execution_count": null,
      "outputs": []
    },
    {
      "cell_type": "code",
      "metadata": {
        "colab": {
          "base_uri": "https://localhost:8080/"
        },
        "id": "cfEsBUl55uFZ",
        "outputId": "54ae44bd-5b81-4306-eba5-1aac88e9053a"
      },
      "source": [
        "# Model summary\r\n",
        "model.summary()"
      ],
      "execution_count": null,
      "outputs": [
        {
          "output_type": "stream",
          "text": [
            "Model: \"sequential_3\"\n",
            "_________________________________________________________________\n",
            "Layer (type)                 Output Shape              Param #   \n",
            "=================================================================\n",
            "conv2d_8 (Conv2D)            (None, 26, 26, 32)        320       \n",
            "_________________________________________________________________\n",
            "max_pooling2d_6 (MaxPooling2 (None, 13, 13, 32)        0         \n",
            "_________________________________________________________________\n",
            "conv2d_9 (Conv2D)            (None, 11, 11, 64)        18496     \n",
            "_________________________________________________________________\n",
            "max_pooling2d_7 (MaxPooling2 (None, 5, 5, 64)          0         \n",
            "_________________________________________________________________\n",
            "flatten_2 (Flatten)          (None, 1600)              0         \n",
            "_________________________________________________________________\n",
            "dense_2 (Dense)              (None, 10)                16010     \n",
            "=================================================================\n",
            "Total params: 34,826\n",
            "Trainable params: 34,826\n",
            "Non-trainable params: 0\n",
            "_________________________________________________________________\n"
          ],
          "name": "stdout"
        }
      ]
    },
    {
      "cell_type": "code",
      "metadata": {
        "id": "Gtqm7cDd5wbW"
      },
      "source": [
        "# Compile the model\r\n",
        "model.compile(optimizer='adam', loss='categorical_crossentropy', metrics=['accuracy'])\r\n"
      ],
      "execution_count": null,
      "outputs": []
    },
    {
      "cell_type": "code",
      "metadata": {
        "colab": {
          "base_uri": "https://localhost:8080/"
        },
        "id": "_MLswrJk86T_",
        "outputId": "a64629e0-f361-46a1-9a3d-5b74df1327ae"
      },
      "source": [
        "# Fit the model\r\n",
        "model.fit(X_train, Y_train, batch_size=128, epochs=15, validation_split=0.1)\r\n"
      ],
      "execution_count": null,
      "outputs": [
        {
          "output_type": "stream",
          "text": [
            "Epoch 1/15\n",
            "422/422 [==============================] - 35s 80ms/step - loss: 0.6494 - accuracy: 0.8171 - val_loss: 0.0800 - val_accuracy: 0.9775\n",
            "Epoch 2/15\n",
            "422/422 [==============================] - 33s 79ms/step - loss: 0.0881 - accuracy: 0.9739 - val_loss: 0.0606 - val_accuracy: 0.9817\n",
            "Epoch 3/15\n",
            "422/422 [==============================] - 33s 79ms/step - loss: 0.0611 - accuracy: 0.9815 - val_loss: 0.0492 - val_accuracy: 0.9873\n",
            "Epoch 4/15\n",
            "422/422 [==============================] - 33s 78ms/step - loss: 0.0493 - accuracy: 0.9852 - val_loss: 0.0493 - val_accuracy: 0.9878\n",
            "Epoch 5/15\n",
            "422/422 [==============================] - 33s 79ms/step - loss: 0.0401 - accuracy: 0.9871 - val_loss: 0.0449 - val_accuracy: 0.9863\n",
            "Epoch 6/15\n",
            "422/422 [==============================] - 33s 79ms/step - loss: 0.0343 - accuracy: 0.9890 - val_loss: 0.0401 - val_accuracy: 0.9893\n",
            "Epoch 7/15\n",
            "422/422 [==============================] - 33s 79ms/step - loss: 0.0301 - accuracy: 0.9906 - val_loss: 0.0366 - val_accuracy: 0.9885\n",
            "Epoch 8/15\n",
            "422/422 [==============================] - 34s 79ms/step - loss: 0.0267 - accuracy: 0.9917 - val_loss: 0.0379 - val_accuracy: 0.9895\n",
            "Epoch 9/15\n",
            "422/422 [==============================] - 33s 78ms/step - loss: 0.0217 - accuracy: 0.9934 - val_loss: 0.0347 - val_accuracy: 0.9905\n",
            "Epoch 10/15\n",
            "422/422 [==============================] - 33s 79ms/step - loss: 0.0190 - accuracy: 0.9945 - val_loss: 0.0405 - val_accuracy: 0.9888\n",
            "Epoch 11/15\n",
            "422/422 [==============================] - 33s 79ms/step - loss: 0.0183 - accuracy: 0.9945 - val_loss: 0.0408 - val_accuracy: 0.9873\n",
            "Epoch 12/15\n",
            "422/422 [==============================] - 33s 79ms/step - loss: 0.0155 - accuracy: 0.9947 - val_loss: 0.0367 - val_accuracy: 0.9913\n",
            "Epoch 13/15\n",
            "422/422 [==============================] - 33s 78ms/step - loss: 0.0140 - accuracy: 0.9957 - val_loss: 0.0441 - val_accuracy: 0.9890\n",
            "Epoch 14/15\n",
            "422/422 [==============================] - 33s 79ms/step - loss: 0.0115 - accuracy: 0.9969 - val_loss: 0.0463 - val_accuracy: 0.9890\n",
            "Epoch 15/15\n",
            "422/422 [==============================] - 34s 80ms/step - loss: 0.0097 - accuracy: 0.9966 - val_loss: 0.0404 - val_accuracy: 0.9905\n"
          ],
          "name": "stdout"
        },
        {
          "output_type": "execute_result",
          "data": {
            "text/plain": [
              "<tensorflow.python.keras.callbacks.History at 0x7fbef4530208>"
            ]
          },
          "metadata": {
            "tags": []
          },
          "execution_count": 44
        }
      ]
    },
    {
      "cell_type": "code",
      "metadata": {
        "id": "ecVbLrveR0sP"
      },
      "source": [
        "# Evaluate the model\r\n",
        "score = model.evaluate(X_test, Y_test, verbose=0)\r\n"
      ],
      "execution_count": null,
      "outputs": []
    },
    {
      "cell_type": "code",
      "metadata": {
        "id": "wavwoaMtR8w7"
      },
      "source": [
        "print(\"Model accuracy: \", score[1])\r\n"
      ],
      "execution_count": null,
      "outputs": []
    }
  ]
}