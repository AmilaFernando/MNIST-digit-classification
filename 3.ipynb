{
  "nbformat": 4,
  "nbformat_minor": 0,
  "metadata": {
    "colab": {
      "name": "3",
      "provenance": [],
      "collapsed_sections": []
    },
    "kernelspec": {
      "display_name": "Python 3",
      "name": "python3"
    }
  },
  "cells": [
    {
      "cell_type": "code",
      "metadata": {
        "id": "mgadDiWqlrQm"
      },
      "source": [
        "## Import libraries\r\n",
        "import numpy as np\r\n",
        "from matplotlib import pyplot as plt\r\n",
        "from tensorflow import keras\r\n",
        "from keras.datasets import mnist\r\n",
        "from tensorflow.keras import layers\r\n",
        "from keras.layers import Dense, Conv2D, Flatten\r\n"
      ],
      "execution_count": 1,
      "outputs": []
    },
    {
      "cell_type": "code",
      "metadata": {
        "id": "VZD5l8_loM3B",
        "colab": {
          "base_uri": "https://localhost:8080/"
        },
        "outputId": "72bdda9a-b6a2-4dfe-b1dd-25aed76722bc"
      },
      "source": [
        "# Load test and train data\r\n",
        "(X_train, Y_train), (X_test, Y_test) = mnist.load_data()"
      ],
      "execution_count": 2,
      "outputs": [
        {
          "output_type": "stream",
          "text": [
            "Downloading data from https://storage.googleapis.com/tensorflow/tf-keras-datasets/mnist.npz\n",
            "11493376/11490434 [==============================] - 0s 0us/step\n"
          ],
          "name": "stdout"
        }
      ]
    },
    {
      "cell_type": "code",
      "metadata": {
        "colab": {
          "base_uri": "https://localhost:8080/"
        },
        "id": "bqHV41mevSQC",
        "outputId": "d7899101-b945-4b97-8904-a9adc9ec58f5"
      },
      "source": [
        "# Understanding test and train data\r\n",
        "print(type(X_train))\r\n",
        "print(type(Y_train))\r\n",
        "print(type(X_test))\r\n",
        "print(type(Y_test))\r\n",
        "\r\n",
        "print(X_train.shape) \r\n",
        "print(Y_train.shape) \r\n",
        "print(X_test.shape) \r\n",
        "print(Y_test.shape)"
      ],
      "execution_count": 3,
      "outputs": [
        {
          "output_type": "stream",
          "text": [
            "<class 'numpy.ndarray'>\n",
            "<class 'numpy.ndarray'>\n",
            "<class 'numpy.ndarray'>\n",
            "<class 'numpy.ndarray'>\n",
            "(60000, 28, 28)\n",
            "(60000,)\n",
            "(10000, 28, 28)\n",
            "(10000,)\n"
          ],
          "name": "stdout"
        }
      ]
    },
    {
      "cell_type": "code",
      "metadata": {
        "colab": {
          "base_uri": "https://localhost:8080/"
        },
        "id": "OKIhKDERwhK1",
        "outputId": "d37b5325-1173-454f-80c9-9c5835491f6f"
      },
      "source": [
        "X_train = np.expand_dims(X_train, -1)\r\n",
        "X_test = np.expand_dims(X_test, -1)\r\n",
        "\r\n",
        "X_train = X_train.astype('float32')\r\n",
        "X_test = X_test.astype('float32')\r\n",
        "\r\n",
        "# check the min and max values\r\n",
        "np.min(X_train), np.max(X_train)\r\n",
        "#np.min(Y_train), np.max(Y_test)\r\n",
        "\r\n"
      ],
      "execution_count": 4,
      "outputs": [
        {
          "output_type": "execute_result",
          "data": {
            "text/plain": [
              "(0.0, 255.0)"
            ]
          },
          "metadata": {
            "tags": []
          },
          "execution_count": 4
        }
      ]
    },
    {
      "cell_type": "code",
      "metadata": {
        "colab": {
          "base_uri": "https://localhost:8080/"
        },
        "id": "RyUT4V14ygWA",
        "outputId": "ef0d2c04-49bc-419a-f22e-349d9700b003"
      },
      "source": [
        "# Normalize the data\r\n",
        "X_train /= 255\r\n",
        "X_test /= 255\r\n",
        "\r\n",
        "# Check min and max values\r\n",
        "np.min(X_train), np.max(X_train)\r\n"
      ],
      "execution_count": 5,
      "outputs": [
        {
          "output_type": "execute_result",
          "data": {
            "text/plain": [
              "(0.0, 1.0)"
            ]
          },
          "metadata": {
            "tags": []
          },
          "execution_count": 5
        }
      ]
    },
    {
      "cell_type": "code",
      "metadata": {
        "id": "WaYwCAPszowS"
      },
      "source": [
        "# make y data categorical\r\n",
        "no_of_classes = 10\r\n",
        "Y_train = keras.utils.to_categorical(Y_train, no_of_classes)\r\n",
        "Y_test = keras.utils.to_categorical(Y_test, no_of_classes)"
      ],
      "execution_count": 6,
      "outputs": []
    },
    {
      "cell_type": "code",
      "metadata": {
        "colab": {
          "base_uri": "https://localhost:8080/"
        },
        "id": "QTSgsETS4XUz",
        "outputId": "594eb76b-5b74-46d9-f361-2867decf67ed"
      },
      "source": [
        "# Train the model from section 1 with 0.25 noise factor\r\n",
        "# Model1\r\n",
        "model1 = keras.Sequential()\r\n",
        "\r\n",
        "# Add Layers\r\n",
        "model1.add(layers.Conv2D(32, (3, 3), activation='relu', input_shape=(28, 28, 1)))\r\n",
        "model1.add(layers.MaxPooling2D((2, 2)))\r\n",
        "model1.add(layers.Conv2D(64, (3, 3), activation='relu'))\r\n",
        "model1.add(layers.MaxPooling2D((2, 2)))\r\n",
        "model1.add(Flatten())\r\n",
        "model1.add(Dense(10, activation='softmax'))\r\n",
        "\r\n",
        "# Model1 summary\r\n",
        "model1.summary()\r\n",
        "\r\n",
        "# Compile the model1\r\n",
        "model1.compile(optimizer='adam', loss='categorical_crossentropy', metrics=['accuracy'])\r\n",
        "\r\n",
        "# Add noise\r\n",
        "noise_factor = 0.25\r\n",
        "X_train_noisy_25 = X_train + noise_factor * np.random.normal(loc=0.0, scale=1.0, size=X_train.shape)\r\n",
        "X_test_noisy_25 = X_test + noise_factor * np.random.normal(loc=0.0, scale=1.0, size=X_test.shape)\r\n",
        "X_train_noisy_25 = np.clip(X_train_noisy_25, 0. , 1.)\r\n",
        "X_test_noisy_25 = np.clip(X_test_noisy_25, 0. , 1.)\r\n",
        "\r\n",
        "# Fit the model1 with \r\n",
        "model1.fit(X_train_noisy_25, Y_train, batch_size=128, epochs=15, validation_split=0.1)\r\n",
        "\r\n",
        "# Evaluate the model1\r\n",
        "score = model1.evaluate(X_test_noisy_25, Y_test, verbose=0)\r\n",
        "print(\"Model accuracy: \", score[1])"
      ],
      "execution_count": null,
      "outputs": [
        {
          "output_type": "stream",
          "text": [
            "Model: \"sequential\"\n",
            "_________________________________________________________________\n",
            "Layer (type)                 Output Shape              Param #   \n",
            "=================================================================\n",
            "conv2d (Conv2D)              (None, 26, 26, 32)        320       \n",
            "_________________________________________________________________\n",
            "max_pooling2d (MaxPooling2D) (None, 13, 13, 32)        0         \n",
            "_________________________________________________________________\n",
            "conv2d_1 (Conv2D)            (None, 11, 11, 64)        18496     \n",
            "_________________________________________________________________\n",
            "max_pooling2d_1 (MaxPooling2 (None, 5, 5, 64)          0         \n",
            "_________________________________________________________________\n",
            "flatten (Flatten)            (None, 1600)              0         \n",
            "_________________________________________________________________\n",
            "dense (Dense)                (None, 10)                16010     \n",
            "=================================================================\n",
            "Total params: 34,826\n",
            "Trainable params: 34,826\n",
            "Non-trainable params: 0\n",
            "_________________________________________________________________\n",
            "Epoch 1/15\n",
            "422/422 [==============================] - 37s 85ms/step - loss: 0.8152 - accuracy: 0.7631 - val_loss: 0.1197 - val_accuracy: 0.9665\n",
            "Epoch 2/15\n",
            "422/422 [==============================] - 35s 83ms/step - loss: 0.1203 - accuracy: 0.9639 - val_loss: 0.0830 - val_accuracy: 0.9737\n",
            "Epoch 3/15\n",
            "422/422 [==============================] - 35s 83ms/step - loss: 0.0810 - accuracy: 0.9752 - val_loss: 0.0684 - val_accuracy: 0.9802\n",
            "Epoch 4/15\n",
            "422/422 [==============================] - 34s 82ms/step - loss: 0.0683 - accuracy: 0.9786 - val_loss: 0.0656 - val_accuracy: 0.9800\n",
            "Epoch 5/15\n",
            "422/422 [==============================] - 34s 81ms/step - loss: 0.0569 - accuracy: 0.9826 - val_loss: 0.0599 - val_accuracy: 0.9818\n",
            "Epoch 6/15\n",
            "422/422 [==============================] - 34s 81ms/step - loss: 0.0488 - accuracy: 0.9846 - val_loss: 0.0612 - val_accuracy: 0.9825\n",
            "Epoch 7/15\n",
            "422/422 [==============================] - 34s 81ms/step - loss: 0.0458 - accuracy: 0.9855 - val_loss: 0.0576 - val_accuracy: 0.9837\n",
            "Epoch 8/15\n",
            "422/422 [==============================] - 34s 81ms/step - loss: 0.0386 - accuracy: 0.9881 - val_loss: 0.0484 - val_accuracy: 0.9865\n",
            "Epoch 9/15\n",
            "422/422 [==============================] - 34s 81ms/step - loss: 0.0332 - accuracy: 0.9902 - val_loss: 0.0529 - val_accuracy: 0.9842\n",
            "Epoch 10/15\n",
            "422/422 [==============================] - 34s 81ms/step - loss: 0.0297 - accuracy: 0.9906 - val_loss: 0.0520 - val_accuracy: 0.9855\n",
            "Epoch 11/15\n",
            "422/422 [==============================] - 35s 82ms/step - loss: 0.0297 - accuracy: 0.9904 - val_loss: 0.0521 - val_accuracy: 0.9858\n",
            "Epoch 12/15\n",
            "422/422 [==============================] - 34s 81ms/step - loss: 0.0221 - accuracy: 0.9929 - val_loss: 0.0503 - val_accuracy: 0.9872\n",
            "Epoch 13/15\n",
            "422/422 [==============================] - 34s 81ms/step - loss: 0.0206 - accuracy: 0.9932 - val_loss: 0.0592 - val_accuracy: 0.9838\n",
            "Epoch 14/15\n",
            "422/422 [==============================] - 34s 81ms/step - loss: 0.0184 - accuracy: 0.9944 - val_loss: 0.0500 - val_accuracy: 0.9870\n",
            "Epoch 15/15\n",
            "422/422 [==============================] - 34s 81ms/step - loss: 0.0162 - accuracy: 0.9955 - val_loss: 0.0530 - val_accuracy: 0.9873\n",
            "Model accuracy:  0.9850000143051147\n"
          ],
          "name": "stdout"
        }
      ]
    },
    {
      "cell_type": "code",
      "metadata": {
        "colab": {
          "base_uri": "https://localhost:8080/"
        },
        "id": "cj4aGtWgJLgT",
        "outputId": "0014f1cb-62c4-4be1-9dce-3bdcb845557d"
      },
      "source": [
        "# Train the model from section 1 with 0.25 noise factor. Add 1 more layer\r\n",
        "# Model2\r\n",
        "model2 = keras.Sequential()\r\n",
        "\r\n",
        "# Add Layers\r\n",
        "model2.add(layers.Conv2D(32, (3, 3), activation='relu', input_shape=(28, 28, 1)))\r\n",
        "model2.add(layers.MaxPooling2D((2, 2)))\r\n",
        "model2.add(layers.Conv2D(64, (3, 3), activation='relu'))\r\n",
        "model2.add(layers.MaxPooling2D((2, 2)))\r\n",
        "model2.add(layers.Conv2D(64, (3, 3), activation='relu'))\r\n",
        "model2.add(layers.MaxPooling2D((2, 2)))\r\n",
        "model2.add(Flatten())\r\n",
        "model2.add(Dense(10, activation='softmax'))\r\n",
        "\r\n",
        "# Model2 summary\r\n",
        "model2.summary()\r\n",
        "\r\n",
        "# Compile the model2\r\n",
        "model2.compile(optimizer='adam', loss='categorical_crossentropy', metrics=['accuracy'])\r\n",
        "\r\n",
        "# Add noise\r\n",
        "noise_factor = 0.25\r\n",
        "X_train_noisy_25 = X_train + noise_factor * np.random.normal(loc=0.0, scale=1.0, size=X_train.shape)\r\n",
        "X_test_noisy_25 = X_test + noise_factor * np.random.normal(loc=0.0, scale=1.0, size=X_test.shape)\r\n",
        "X_train_noisy_25 = np.clip(X_train_noisy_25, 0. , 1.)\r\n",
        "X_test_noisy_25 = np.clip(X_test_noisy_25, 0. , 1.)\r\n",
        "\r\n",
        "# Fit the model2 with \r\n",
        "model2.fit(X_train_noisy_25, Y_train, batch_size=128, epochs=15, validation_split=0.1)\r\n",
        "\r\n",
        "# Evaluate the model2\r\n",
        "score = model2.evaluate(X_test_noisy_25, Y_test, verbose=0)\r\n",
        "print(\"Model accuracy: \", score[1])"
      ],
      "execution_count": null,
      "outputs": [
        {
          "output_type": "stream",
          "text": [
            "Model: \"sequential_1\"\n",
            "_________________________________________________________________\n",
            "Layer (type)                 Output Shape              Param #   \n",
            "=================================================================\n",
            "conv2d_2 (Conv2D)            (None, 26, 26, 32)        320       \n",
            "_________________________________________________________________\n",
            "max_pooling2d_2 (MaxPooling2 (None, 13, 13, 32)        0         \n",
            "_________________________________________________________________\n",
            "conv2d_3 (Conv2D)            (None, 11, 11, 64)        18496     \n",
            "_________________________________________________________________\n",
            "max_pooling2d_3 (MaxPooling2 (None, 5, 5, 64)          0         \n",
            "_________________________________________________________________\n",
            "conv2d_4 (Conv2D)            (None, 3, 3, 64)          36928     \n",
            "_________________________________________________________________\n",
            "max_pooling2d_4 (MaxPooling2 (None, 1, 1, 64)          0         \n",
            "_________________________________________________________________\n",
            "flatten_1 (Flatten)          (None, 64)                0         \n",
            "_________________________________________________________________\n",
            "dense_1 (Dense)              (None, 10)                650       \n",
            "=================================================================\n",
            "Total params: 56,394\n",
            "Trainable params: 56,394\n",
            "Non-trainable params: 0\n",
            "_________________________________________________________________\n",
            "Epoch 1/15\n",
            "422/422 [==============================] - 39s 92ms/step - loss: 0.9603 - accuracy: 0.7051 - val_loss: 0.1689 - val_accuracy: 0.9522\n",
            "Epoch 2/15\n",
            "422/422 [==============================] - 38s 91ms/step - loss: 0.1604 - accuracy: 0.9511 - val_loss: 0.1076 - val_accuracy: 0.9673\n",
            "Epoch 3/15\n",
            "422/422 [==============================] - 38s 91ms/step - loss: 0.1128 - accuracy: 0.9640 - val_loss: 0.0947 - val_accuracy: 0.9713\n",
            "Epoch 4/15\n",
            "422/422 [==============================] - 38s 90ms/step - loss: 0.0829 - accuracy: 0.9748 - val_loss: 0.0778 - val_accuracy: 0.9778\n",
            "Epoch 5/15\n",
            "422/422 [==============================] - 38s 91ms/step - loss: 0.0689 - accuracy: 0.9779 - val_loss: 0.0717 - val_accuracy: 0.9798\n",
            "Epoch 6/15\n",
            "422/422 [==============================] - 38s 91ms/step - loss: 0.0599 - accuracy: 0.9818 - val_loss: 0.0698 - val_accuracy: 0.9798\n",
            "Epoch 7/15\n",
            "422/422 [==============================] - 38s 90ms/step - loss: 0.0506 - accuracy: 0.9839 - val_loss: 0.0650 - val_accuracy: 0.9810\n",
            "Epoch 8/15\n",
            "422/422 [==============================] - 38s 90ms/step - loss: 0.0418 - accuracy: 0.9874 - val_loss: 0.0712 - val_accuracy: 0.9775\n",
            "Epoch 9/15\n",
            "422/422 [==============================] - 38s 90ms/step - loss: 0.0401 - accuracy: 0.9870 - val_loss: 0.0681 - val_accuracy: 0.9787\n",
            "Epoch 10/15\n",
            "422/422 [==============================] - 38s 90ms/step - loss: 0.0334 - accuracy: 0.9896 - val_loss: 0.0770 - val_accuracy: 0.9792\n",
            "Epoch 11/15\n",
            "422/422 [==============================] - 38s 90ms/step - loss: 0.0284 - accuracy: 0.9910 - val_loss: 0.0658 - val_accuracy: 0.9820\n",
            "Epoch 12/15\n",
            "422/422 [==============================] - 38s 90ms/step - loss: 0.0238 - accuracy: 0.9932 - val_loss: 0.0647 - val_accuracy: 0.9830\n",
            "Epoch 13/15\n",
            "422/422 [==============================] - 38s 90ms/step - loss: 0.0252 - accuracy: 0.9919 - val_loss: 0.0655 - val_accuracy: 0.9810\n",
            "Epoch 14/15\n",
            "422/422 [==============================] - 38s 91ms/step - loss: 0.0189 - accuracy: 0.9946 - val_loss: 0.0645 - val_accuracy: 0.9823\n",
            "Epoch 15/15\n",
            "422/422 [==============================] - 38s 90ms/step - loss: 0.0179 - accuracy: 0.9942 - val_loss: 0.0708 - val_accuracy: 0.9813\n",
            "Model accuracy:  0.98089998960495\n"
          ],
          "name": "stdout"
        }
      ]
    },
    {
      "cell_type": "code",
      "metadata": {
        "colab": {
          "base_uri": "https://localhost:8080/"
        },
        "id": "qj0TnLi_JuEG",
        "outputId": "1d0d23f5-aff9-4e42-c8b3-1d3d630d7a70"
      },
      "source": [
        "# Train the model from section 1 with 0.25 noise factor. Add 2 layers\r\n",
        "# Model1\r\n",
        "model3 = keras.Sequential()\r\n",
        "\r\n",
        "# Add Layers\r\n",
        "model3.add(layers.Conv2D(32, (3, 3), activation='relu', input_shape=(28, 28, 1)))\r\n",
        "model3.add(layers.MaxPooling2D((2, 2)))\r\n",
        "model3.add(layers.Conv2D(64, (3, 3), activation='relu'))\r\n",
        "model3.add(layers.MaxPooling2D((2, 2)))\r\n",
        "model3.add(layers.Conv2D(64, (3, 3), activation='relu'))\r\n",
        "model3.add(layers.MaxPooling2D((2, 2)))\r\n",
        "model3.add(Flatten())\r\n",
        "model3.add(Dense(20, activation='softmax'))\r\n",
        "model3.add(Dense(10, activation='softmax'))\r\n",
        "\r\n",
        "# Model3 summary\r\n",
        "model3.summary()\r\n",
        "\r\n",
        "# Compile the model3\r\n",
        "model3.compile(optimizer='adam', loss='categorical_crossentropy', metrics=['accuracy'])\r\n",
        "\r\n",
        "# Add noise\r\n",
        "noise_factor = 0.25\r\n",
        "X_train_noisy_25 = X_train + noise_factor * np.random.normal(loc=0.0, scale=1.0, size=X_train.shape)\r\n",
        "X_test_noisy_25 = X_test + noise_factor * np.random.normal(loc=0.0, scale=1.0, size=X_test.shape)\r\n",
        "X_train_noisy_25 = np.clip(X_train_noisy_25, 0. , 1.)\r\n",
        "X_test_noisy_25 = np.clip(X_test_noisy_25, 0. , 1.)\r\n",
        "\r\n",
        "# Fit the model3 with \r\n",
        "model3.fit(X_train_noisy_25, Y_train, batch_size=128, epochs=15, validation_split=0.1)\r\n",
        "\r\n",
        "# Evaluate the model3\r\n",
        "score = model3.evaluate(X_test_noisy_25, Y_test, verbose=0)\r\n",
        "print(\"Model accuracy: \", score[1])"
      ],
      "execution_count": null,
      "outputs": [
        {
          "output_type": "stream",
          "text": [
            "Model: \"sequential_5\"\n",
            "_________________________________________________________________\n",
            "Layer (type)                 Output Shape              Param #   \n",
            "=================================================================\n",
            "conv2d_15 (Conv2D)           (None, 26, 26, 32)        320       \n",
            "_________________________________________________________________\n",
            "max_pooling2d_14 (MaxPooling (None, 13, 13, 32)        0         \n",
            "_________________________________________________________________\n",
            "conv2d_16 (Conv2D)           (None, 11, 11, 64)        18496     \n",
            "_________________________________________________________________\n",
            "max_pooling2d_15 (MaxPooling (None, 5, 5, 64)          0         \n",
            "_________________________________________________________________\n",
            "conv2d_17 (Conv2D)           (None, 3, 3, 64)          36928     \n",
            "_________________________________________________________________\n",
            "max_pooling2d_16 (MaxPooling (None, 1, 1, 64)          0         \n",
            "_________________________________________________________________\n",
            "flatten_4 (Flatten)          (None, 64)                0         \n",
            "_________________________________________________________________\n",
            "dense_4 (Dense)              (None, 20)                1300      \n",
            "_________________________________________________________________\n",
            "dense_5 (Dense)              (None, 10)                210       \n",
            "=================================================================\n",
            "Total params: 57,254\n",
            "Trainable params: 57,254\n",
            "Non-trainable params: 0\n",
            "_________________________________________________________________\n",
            "Epoch 1/15\n",
            "422/422 [==============================] - 39s 91ms/step - loss: 2.0982 - accuracy: 0.2438 - val_loss: 1.7194 - val_accuracy: 0.3847\n",
            "Epoch 2/15\n",
            "422/422 [==============================] - 38s 91ms/step - loss: 1.6306 - accuracy: 0.3921 - val_loss: 1.4236 - val_accuracy: 0.3950\n",
            "Epoch 3/15\n",
            "422/422 [==============================] - 38s 91ms/step - loss: 1.3753 - accuracy: 0.4021 - val_loss: 1.2773 - val_accuracy: 0.4032\n",
            "Epoch 4/15\n",
            "422/422 [==============================] - 38s 90ms/step - loss: 1.2457 - accuracy: 0.4094 - val_loss: 1.1964 - val_accuracy: 0.4080\n",
            "Epoch 5/15\n",
            "422/422 [==============================] - 38s 91ms/step - loss: 1.1702 - accuracy: 0.4028 - val_loss: 1.1562 - val_accuracy: 0.4040\n",
            "Epoch 6/15\n",
            "422/422 [==============================] - 38s 90ms/step - loss: 1.1284 - accuracy: 0.4098 - val_loss: 1.1154 - val_accuracy: 0.4062\n",
            "Epoch 7/15\n",
            "422/422 [==============================] - 38s 90ms/step - loss: 1.0969 - accuracy: 0.4062 - val_loss: 1.0949 - val_accuracy: 0.4070\n",
            "Epoch 8/15\n",
            "422/422 [==============================] - 38s 91ms/step - loss: 1.0710 - accuracy: 0.4080 - val_loss: 1.0770 - val_accuracy: 0.4075\n",
            "Epoch 9/15\n",
            "422/422 [==============================] - 38s 90ms/step - loss: 1.0497 - accuracy: 0.4104 - val_loss: 1.0784 - val_accuracy: 0.4048\n",
            "Epoch 10/15\n",
            "422/422 [==============================] - 38s 90ms/step - loss: 1.0450 - accuracy: 0.4095 - val_loss: 1.0622 - val_accuracy: 0.4053\n",
            "Epoch 11/15\n",
            "422/422 [==============================] - 38s 90ms/step - loss: 1.0273 - accuracy: 0.4117 - val_loss: 1.0606 - val_accuracy: 0.4090\n",
            "Epoch 12/15\n",
            "422/422 [==============================] - 38s 90ms/step - loss: 1.0214 - accuracy: 0.4162 - val_loss: 1.0483 - val_accuracy: 0.3992\n",
            "Epoch 13/15\n",
            "422/422 [==============================] - 38s 90ms/step - loss: 1.0191 - accuracy: 0.4159 - val_loss: 1.0471 - val_accuracy: 0.4060\n",
            "Epoch 14/15\n",
            "422/422 [==============================] - 38s 90ms/step - loss: 1.0064 - accuracy: 0.4172 - val_loss: 1.0430 - val_accuracy: 0.4063\n",
            "Epoch 15/15\n",
            "422/422 [==============================] - 38s 90ms/step - loss: 1.0066 - accuracy: 0.4172 - val_loss: 1.0403 - val_accuracy: 0.4072\n",
            "Model accuracy:  0.4169999957084656\n"
          ],
          "name": "stdout"
        }
      ]
    },
    {
      "cell_type": "code",
      "metadata": {
        "colab": {
          "base_uri": "https://localhost:8080/"
        },
        "id": "pxI5bf0fPRt-",
        "outputId": "16100be1-709f-4c14-8bd9-feb8701deea1"
      },
      "source": [
        "# Train the model from section 1 with 0.25 noise factor. Add one conv layer and one dense layers\r\n",
        "# Model4\r\n",
        "model4 = keras.Sequential()\r\n",
        "\r\n",
        "# Add Layers\r\n",
        "model4.add(layers.Conv2D(32, (3, 3), activation='relu', input_shape=(28, 28, 1)))\r\n",
        "model4.add(layers.MaxPooling2D((2, 2)))\r\n",
        "model4.add(layers.Conv2D(64, (3, 3), activation='relu'))\r\n",
        "model4.add(layers.MaxPooling2D((2, 2)))\r\n",
        "model4.add(Flatten())\r\n",
        "model4.add(Dense(20, activation='softmax'))\r\n",
        "model4.add(Dense(10, activation='softmax'))\r\n",
        "\r\n",
        "# Model4 summary\r\n",
        "model4.summary()\r\n",
        "\r\n",
        "# Compile the model4\r\n",
        "model4.compile(optimizer='adam', loss='categorical_crossentropy', metrics=['accuracy'])\r\n",
        "\r\n",
        "# Add noise\r\n",
        "noise_factor = 0.25\r\n",
        "X_train_noisy_25 = X_train + noise_factor * np.random.normal(loc=0.0, scale=1.0, size=X_train.shape)\r\n",
        "X_test_noisy_25 = X_test + noise_factor * np.random.normal(loc=0.0, scale=1.0, size=X_test.shape)\r\n",
        "X_train_noisy_25 = np.clip(X_train_noisy_25, 0. , 1.)\r\n",
        "X_test_noisy_25 = np.clip(X_test_noisy_25, 0. , 1.)\r\n",
        "\r\n",
        "# Fit the model4 with \r\n",
        "model4.fit(X_train_noisy_25, Y_train, batch_size=128, epochs=15, validation_split=0.1)\r\n",
        "\r\n",
        "# Evaluate the model4\r\n",
        "score = model4.evaluate(X_test_noisy_25, Y_test, verbose=0)\r\n",
        "print(\"Model accuracy: \", score[1])"
      ],
      "execution_count": null,
      "outputs": [
        {
          "output_type": "stream",
          "text": [
            "Model: \"sequential_7\"\n",
            "_________________________________________________________________\n",
            "Layer (type)                 Output Shape              Param #   \n",
            "=================================================================\n",
            "conv2d_21 (Conv2D)           (None, 26, 26, 32)        320       \n",
            "_________________________________________________________________\n",
            "max_pooling2d_20 (MaxPooling (None, 13, 13, 32)        0         \n",
            "_________________________________________________________________\n",
            "conv2d_22 (Conv2D)           (None, 11, 11, 64)        18496     \n",
            "_________________________________________________________________\n",
            "max_pooling2d_21 (MaxPooling (None, 5, 5, 64)          0         \n",
            "_________________________________________________________________\n",
            "flatten_6 (Flatten)          (None, 1600)              0         \n",
            "_________________________________________________________________\n",
            "dense_8 (Dense)              (None, 20)                32020     \n",
            "_________________________________________________________________\n",
            "dense_9 (Dense)              (None, 10)                210       \n",
            "=================================================================\n",
            "Total params: 51,046\n",
            "Trainable params: 51,046\n",
            "Non-trainable params: 0\n",
            "_________________________________________________________________\n",
            "Epoch 1/15\n",
            "422/422 [==============================] - 37s 87ms/step - loss: 1.9956 - accuracy: 0.4974 - val_loss: 1.4306 - val_accuracy: 0.7703\n",
            "Epoch 2/15\n",
            "422/422 [==============================] - 36s 85ms/step - loss: 1.3241 - accuracy: 0.7745 - val_loss: 1.0037 - val_accuracy: 0.7892\n",
            "Epoch 3/15\n",
            "422/422 [==============================] - 35s 83ms/step - loss: 0.9454 - accuracy: 0.7853 - val_loss: 0.7690 - val_accuracy: 0.7905\n",
            "Epoch 4/15\n",
            "422/422 [==============================] - 35s 83ms/step - loss: 0.7125 - accuracy: 0.7975 - val_loss: 0.6041 - val_accuracy: 0.7950\n",
            "Epoch 5/15\n",
            "422/422 [==============================] - 35s 83ms/step - loss: 0.5819 - accuracy: 0.7971 - val_loss: 0.5127 - val_accuracy: 0.7985\n",
            "Epoch 6/15\n",
            "422/422 [==============================] - 35s 83ms/step - loss: 0.4944 - accuracy: 0.8012 - val_loss: 0.4586 - val_accuracy: 0.7980\n",
            "Epoch 7/15\n",
            "422/422 [==============================] - 35s 83ms/step - loss: 0.4426 - accuracy: 0.8007 - val_loss: 0.4182 - val_accuracy: 0.7990\n",
            "Epoch 8/15\n",
            "422/422 [==============================] - 35s 83ms/step - loss: 0.4089 - accuracy: 0.8035 - val_loss: 0.3920 - val_accuracy: 0.8002\n",
            "Epoch 9/15\n",
            "422/422 [==============================] - 35s 82ms/step - loss: 0.3792 - accuracy: 0.8055 - val_loss: 0.3790 - val_accuracy: 0.8002\n",
            "Epoch 10/15\n",
            "422/422 [==============================] - 35s 83ms/step - loss: 0.3587 - accuracy: 0.8103 - val_loss: 0.3611 - val_accuracy: 0.8010\n",
            "Epoch 11/15\n",
            "422/422 [==============================] - 35s 83ms/step - loss: 0.3426 - accuracy: 0.8077 - val_loss: 0.3590 - val_accuracy: 0.8125\n",
            "Epoch 12/15\n",
            "422/422 [==============================] - 35s 83ms/step - loss: 0.3329 - accuracy: 0.8108 - val_loss: 0.3428 - val_accuracy: 0.8098\n",
            "Epoch 13/15\n",
            "422/422 [==============================] - 35s 83ms/step - loss: 0.3234 - accuracy: 0.8142 - val_loss: 0.3358 - val_accuracy: 0.8332\n",
            "Epoch 14/15\n",
            "422/422 [==============================] - 35s 82ms/step - loss: 0.3019 - accuracy: 0.8492 - val_loss: 0.2635 - val_accuracy: 0.8947\n",
            "Epoch 15/15\n",
            "422/422 [==============================] - 35s 82ms/step - loss: 0.2235 - accuracy: 0.9001 - val_loss: 0.2293 - val_accuracy: 0.8960\n",
            "Model accuracy:  0.8973000049591064\n"
          ],
          "name": "stdout"
        }
      ]
    },
    {
      "cell_type": "code",
      "metadata": {
        "colab": {
          "base_uri": "https://localhost:8080/"
        },
        "id": "teBBPZUTTHqX",
        "outputId": "f770e2f4-f8ae-4f68-9bab-dce0e8ebe9eb"
      },
      "source": [
        "# Train the model from section 1 with 0.25 noise factor. Add one conv layer and one dense layers\r\n",
        "# Model5\r\n",
        "model5 = keras.Sequential()\r\n",
        "\r\n",
        "# Add Layers\r\n",
        "model5.add(layers.Conv2D(32, (3, 3), activation='relu', input_shape=(28, 28, 1)))\r\n",
        "model5.add(layers.MaxPooling2D((2, 2)))\r\n",
        "model5.add(layers.Conv2D(16, (3, 3), activation='relu'))\r\n",
        "model5.add(layers.MaxPooling2D((2, 2)))\r\n",
        "model5.add(layers.Conv2D(16, (3, 3), activation='relu'))\r\n",
        "model5.add(layers.MaxPooling2D((2, 2)))\r\n",
        "model5.add(Flatten())\r\n",
        "model5.add(Dense(10, activation='softmax'))\r\n",
        "model5.add(Dense(10, activation='softmax'))\r\n",
        "\r\n",
        "# Model5 summary\r\n",
        "model5.summary()\r\n",
        "\r\n",
        "# Compile the model5\r\n",
        "model5.compile(optimizer='adam', loss='categorical_crossentropy', metrics=['accuracy'])\r\n",
        "\r\n",
        "# Add noise\r\n",
        "noise_factor = 0.25\r\n",
        "X_train_noisy_25 = X_train + noise_factor * np.random.normal(loc=0.0, scale=1.0, size=X_train.shape)\r\n",
        "X_test_noisy_25 = X_test + noise_factor * np.random.normal(loc=0.0, scale=1.0, size=X_test.shape)\r\n",
        "X_train_noisy_25 = np.clip(X_train_noisy_25, 0. , 1.)\r\n",
        "X_test_noisy_25 = np.clip(X_test_noisy_25, 0. , 1.)\r\n",
        "\r\n",
        "# Fit the model5 with \r\n",
        "model5.fit(X_train_noisy_25, Y_train, batch_size=128, epochs=15, validation_split=0.1)\r\n",
        "\r\n",
        "# Evaluate the model5\r\n",
        "score = model5.evaluate(X_test_noisy_25, Y_test, verbose=0)\r\n",
        "print(\"Model accuracy: \", score[1])"
      ],
      "execution_count": null,
      "outputs": [
        {
          "output_type": "stream",
          "text": [
            "Model: \"sequential_8\"\n",
            "_________________________________________________________________\n",
            "Layer (type)                 Output Shape              Param #   \n",
            "=================================================================\n",
            "conv2d_23 (Conv2D)           (None, 26, 26, 32)        320       \n",
            "_________________________________________________________________\n",
            "max_pooling2d_22 (MaxPooling (None, 13, 13, 32)        0         \n",
            "_________________________________________________________________\n",
            "conv2d_24 (Conv2D)           (None, 11, 11, 16)        4624      \n",
            "_________________________________________________________________\n",
            "max_pooling2d_23 (MaxPooling (None, 5, 5, 16)          0         \n",
            "_________________________________________________________________\n",
            "conv2d_25 (Conv2D)           (None, 3, 3, 16)          2320      \n",
            "_________________________________________________________________\n",
            "max_pooling2d_24 (MaxPooling (None, 1, 1, 16)          0         \n",
            "_________________________________________________________________\n",
            "flatten_7 (Flatten)          (None, 16)                0         \n",
            "_________________________________________________________________\n",
            "dense_10 (Dense)             (None, 10)                170       \n",
            "_________________________________________________________________\n",
            "dense_11 (Dense)             (None, 10)                110       \n",
            "=================================================================\n",
            "Total params: 7,544\n",
            "Trainable params: 7,544\n",
            "Non-trainable params: 0\n",
            "_________________________________________________________________\n",
            "Epoch 1/15\n",
            "422/422 [==============================] - 28s 64ms/step - loss: 2.1384 - accuracy: 0.2198 - val_loss: 1.7465 - val_accuracy: 0.4352\n",
            "Epoch 2/15\n",
            "422/422 [==============================] - 26s 63ms/step - loss: 1.6936 - accuracy: 0.4399 - val_loss: 1.4435 - val_accuracy: 0.4760\n",
            "Epoch 3/15\n",
            "422/422 [==============================] - 26s 63ms/step - loss: 1.4322 - accuracy: 0.4708 - val_loss: 1.2694 - val_accuracy: 0.4763\n",
            "Epoch 4/15\n",
            "422/422 [==============================] - 26s 63ms/step - loss: 1.2741 - accuracy: 0.4819 - val_loss: 1.1745 - val_accuracy: 0.5103\n",
            "Epoch 5/15\n",
            "422/422 [==============================] - 26s 62ms/step - loss: 1.1775 - accuracy: 0.4925 - val_loss: 1.1060 - val_accuracy: 0.5127\n",
            "Epoch 6/15\n",
            "422/422 [==============================] - 26s 62ms/step - loss: 1.1228 - accuracy: 0.4980 - val_loss: 1.0804 - val_accuracy: 0.4968\n",
            "Epoch 7/15\n",
            "422/422 [==============================] - 26s 62ms/step - loss: 1.0849 - accuracy: 0.4990 - val_loss: 1.0457 - val_accuracy: 0.4982\n",
            "Epoch 8/15\n",
            "422/422 [==============================] - 26s 61ms/step - loss: 1.0541 - accuracy: 0.5058 - val_loss: 1.0034 - val_accuracy: 0.5165\n",
            "Epoch 9/15\n",
            "422/422 [==============================] - 26s 62ms/step - loss: 1.0300 - accuracy: 0.5137 - val_loss: 0.9651 - val_accuracy: 0.5373\n",
            "Epoch 10/15\n",
            "422/422 [==============================] - 26s 62ms/step - loss: 0.9276 - accuracy: 0.6232 - val_loss: 0.7962 - val_accuracy: 0.6498\n",
            "Epoch 11/15\n",
            "422/422 [==============================] - 26s 62ms/step - loss: 0.7953 - accuracy: 0.6613 - val_loss: 0.7469 - val_accuracy: 0.6797\n",
            "Epoch 12/15\n",
            "422/422 [==============================] - 26s 62ms/step - loss: 0.7483 - accuracy: 0.6856 - val_loss: 0.7145 - val_accuracy: 0.7113\n",
            "Epoch 13/15\n",
            "422/422 [==============================] - 26s 61ms/step - loss: 0.7105 - accuracy: 0.7166 - val_loss: 0.6791 - val_accuracy: 0.7233\n",
            "Epoch 14/15\n",
            "422/422 [==============================] - 26s 61ms/step - loss: 0.6830 - accuracy: 0.7304 - val_loss: 0.6554 - val_accuracy: 0.7577\n",
            "Epoch 15/15\n",
            "422/422 [==============================] - 26s 61ms/step - loss: 0.6465 - accuracy: 0.7847 - val_loss: 0.5998 - val_accuracy: 0.8330\n",
            "Model accuracy:  0.8327999711036682\n"
          ],
          "name": "stdout"
        }
      ]
    },
    {
      "cell_type": "code",
      "metadata": {
        "colab": {
          "background_save": true,
          "base_uri": "https://localhost:8080/"
        },
        "id": "C6uNxr7KWq62",
        "outputId": "59a9e1f7-e619-4143-9a93-d42289d0eb7b"
      },
      "source": [
        "# Train the model from section 1 with 0.25 noise factor. Add one conv layer and one dense layers\r\n",
        "# Model6\r\n",
        "model6 = keras.Sequential()\r\n",
        "\r\n",
        "# Add Layers\r\n",
        "model6.add(layers.Conv2D(32, (5, 5), activation='relu', input_shape=(28, 28, 1)))\r\n",
        "model6.add(layers.MaxPooling2D((2, 2)))\r\n",
        "model6.add(layers.Conv2D(32, (3, 3), activation='relu'))\r\n",
        "model6.add(layers.MaxPooling2D((2, 2)))\r\n",
        "model6.add(layers.Conv2D(64, (3, 3), activation='relu'))\r\n",
        "model6.add(layers.MaxPooling2D((2, 2)))\r\n",
        "model6.add(Flatten())\r\n",
        "model6.add(Dense(10, activation='softmax'))\r\n",
        "model6.add(Dense(20, activation='softmax'))\r\n",
        "model6.add(Dense(10, activation='softmax'))\r\n",
        "\r\n",
        "# Model6 summary\r\n",
        "model6.summary()\r\n",
        "\r\n",
        "# Compile the model6\r\n",
        "model6.compile(optimizer='adam', loss='categorical_crossentropy', metrics=['accuracy'])\r\n",
        "\r\n",
        "# Add noise\r\n",
        "noise_factor = 0.25\r\n",
        "X_train_noisy_25 = X_train + noise_factor * np.random.normal(loc=0.0, scale=1.0, size=X_train.shape)\r\n",
        "X_test_noisy_25 = X_test + noise_factor * np.random.normal(loc=0.0, scale=1.0, size=X_test.shape)\r\n",
        "X_train_noisy_25 = np.clip(X_train_noisy_25, 0. , 1.)\r\n",
        "X_test_noisy_25 = np.clip(X_test_noisy_25, 0. , 1.)\r\n",
        "\r\n",
        "# Fit the model6 with \r\n",
        "model6.fit(X_train_noisy_25, Y_train, batch_size=128, epochs=15, validation_split=0.1)\r\n",
        "\r\n",
        "# Evaluate the model6\r\n",
        "score = model6.evaluate(X_test_noisy_25, Y_test, verbose=0)\r\n",
        "print(\"Model accuracy: \", score[1])"
      ],
      "execution_count": null,
      "outputs": [
        {
          "output_type": "stream",
          "text": [
            "Model: \"sequential_14\"\n",
            "_________________________________________________________________\n",
            "Layer (type)                 Output Shape              Param #   \n",
            "=================================================================\n",
            "conv2d_37 (Conv2D)           (None, 24, 24, 32)        832       \n",
            "_________________________________________________________________\n",
            "max_pooling2d_32 (MaxPooling (None, 12, 12, 32)        0         \n",
            "_________________________________________________________________\n",
            "conv2d_38 (Conv2D)           (None, 10, 10, 32)        9248      \n",
            "_________________________________________________________________\n",
            "max_pooling2d_33 (MaxPooling (None, 5, 5, 32)          0         \n",
            "_________________________________________________________________\n",
            "conv2d_39 (Conv2D)           (None, 3, 3, 64)          18496     \n",
            "_________________________________________________________________\n",
            "max_pooling2d_34 (MaxPooling (None, 1, 1, 64)          0         \n",
            "_________________________________________________________________\n",
            "flatten_9 (Flatten)          (None, 64)                0         \n",
            "_________________________________________________________________\n",
            "dense_15 (Dense)             (None, 10)                650       \n",
            "_________________________________________________________________\n",
            "dense_16 (Dense)             (None, 20)                220       \n",
            "_________________________________________________________________\n",
            "dense_17 (Dense)             (None, 10)                210       \n",
            "=================================================================\n",
            "Total params: 29,656\n",
            "Trainable params: 29,656\n",
            "Non-trainable params: 0\n",
            "_________________________________________________________________\n",
            "Epoch 1/15\n",
            "422/422 [==============================] - 33s 77ms/step - loss: 2.2730 - accuracy: 0.1722 - val_loss: 2.0854 - val_accuracy: 0.3058\n",
            "Epoch 2/15\n",
            "422/422 [==============================] - 31s 73ms/step - loss: 1.9870 - accuracy: 0.3083 - val_loss: 1.7265 - val_accuracy: 0.3068\n",
            "Epoch 3/15\n",
            "422/422 [==============================] - 31s 73ms/step - loss: 1.6548 - accuracy: 0.3108 - val_loss: 1.5365 - val_accuracy: 0.3065\n",
            "Epoch 4/15\n",
            "422/422 [==============================] - 31s 72ms/step - loss: 1.4978 - accuracy: 0.3128 - val_loss: 1.4595 - val_accuracy: 0.3117\n",
            "Epoch 5/15\n",
            "422/422 [==============================] - 30s 72ms/step - loss: 1.4442 - accuracy: 0.3093 - val_loss: 1.4397 - val_accuracy: 0.3120\n",
            "Epoch 6/15\n",
            "422/422 [==============================] - 30s 72ms/step - loss: 1.4177 - accuracy: 0.3122 - val_loss: 1.4235 - val_accuracy: 0.3092\n",
            "Epoch 7/15\n",
            "422/422 [==============================] - 30s 72ms/step - loss: 1.4025 - accuracy: 0.3164 - val_loss: 1.4142 - val_accuracy: 0.3120\n",
            "Epoch 8/15\n",
            "422/422 [==============================] - 30s 72ms/step - loss: 1.3939 - accuracy: 0.3178 - val_loss: 1.4065 - val_accuracy: 0.3132\n",
            "Epoch 9/15\n",
            "422/422 [==============================] - 30s 72ms/step - loss: 1.3815 - accuracy: 0.3202 - val_loss: 1.4077 - val_accuracy: 0.3152\n",
            "Epoch 10/15\n",
            "422/422 [==============================] - 31s 72ms/step - loss: 1.3748 - accuracy: 0.3410 - val_loss: 1.3149 - val_accuracy: 0.4080\n",
            "Epoch 11/15\n",
            "422/422 [==============================] - 31s 74ms/step - loss: 1.2533 - accuracy: 0.4092 - val_loss: 1.2274 - val_accuracy: 0.4060\n",
            "Epoch 12/15\n",
            "422/422 [==============================] - 30s 71ms/step - loss: 1.1948 - accuracy: 0.4152 - val_loss: 1.2045 - val_accuracy: 0.4092\n",
            "Epoch 13/15\n",
            "422/422 [==============================] - 30s 71ms/step - loss: 1.1723 - accuracy: 0.4185 - val_loss: 1.1978 - val_accuracy: 0.4090\n",
            "Epoch 14/15\n",
            "422/422 [==============================] - 29s 70ms/step - loss: 1.1596 - accuracy: 0.4201 - val_loss: 1.1914 - val_accuracy: 0.4050\n",
            "Epoch 15/15\n",
            "422/422 [==============================] - 29s 70ms/step - loss: 1.1519 - accuracy: 0.4146 - val_loss: 1.1828 - val_accuracy: 0.4232\n",
            "Model accuracy:  0.42800000309944153\n"
          ],
          "name": "stdout"
        }
      ]
    },
    {
      "cell_type": "code",
      "metadata": {
        "colab": {
          "base_uri": "https://localhost:8080/"
        },
        "id": "bBlQzEDIABMD",
        "outputId": "0af9ea16-b7e0-4231-c425-bd21a5f61c9e"
      },
      "source": [
        "# Try with Autoencoders\r\n",
        "\r\n",
        "\r\n",
        "# Encoding\r\n",
        "input_img_shape = keras.Input(shape=(28, 28, 1))\r\n",
        "\r\n",
        "x = layers.Conv2D(32, (3, 3), activation='relu', padding='same')(input_img_shape)\r\n",
        "x = layers.MaxPooling2D((2, 2), padding='same')(x)\r\n",
        "x = layers.Conv2D(32, (3, 3), activation='relu', padding='same')(x)\r\n",
        "encoded = layers.MaxPooling2D((2, 2), padding='same')(x)\r\n",
        "\r\n",
        "# Decoding\r\n",
        "\r\n",
        "x = layers.Conv2D(32, (3, 3), activation='relu', padding='same')(encoded)\r\n",
        "x = layers.UpSampling2D((2, 2))(x)\r\n",
        "x = layers.Conv2D(32, (3, 3), activation='relu', padding='same')(x)\r\n",
        "x = layers.UpSampling2D((2, 2))(x)\r\n",
        "decoded = layers.Conv2D(1, (3, 3), activation='sigmoid', padding='same')(x)\r\n",
        "\r\n",
        "autoencoder = keras.Model(input_img_shape, decoded)\r\n",
        "autoencoder.compile(optimizer='adam', loss='binary_crossentropy')\r\n",
        "\r\n",
        "# Add noise\r\n",
        "noise_factor = 0.25\r\n",
        "X_train_noisy_25 = X_train + noise_factor * np.random.normal(loc=0.0, scale=1.0, size=X_train.shape)\r\n",
        "X_test_noisy_25 = X_test + noise_factor * np.random.normal(loc=0.0, scale=1.0, size=X_test.shape)\r\n",
        "X_train_noisy_25 = np.clip(X_train_noisy_25, 0. , 1.)\r\n",
        "X_test_noisy_25 = np.clip(X_test_noisy_25, 0. , 1.)\r\n",
        "\r\n",
        "\r\n",
        "autoencoder.fit(X_train_noisy_25, X_train,\r\n",
        "                epochs=100,\r\n",
        "                batch_size=128,\r\n",
        "                shuffle=True,\r\n",
        "                validation_data=(X_test_noisy_25, X_test))\r\n",
        "\r\n",
        "\r\n"
      ],
      "execution_count": 13,
      "outputs": [
        {
          "output_type": "stream",
          "text": [
            "Epoch 1/100\n",
            "469/469 [==============================] - 148s 314ms/step - loss: 0.2173 - val_loss: 0.0889\n",
            "Epoch 2/100\n",
            "469/469 [==============================] - 145s 309ms/step - loss: 0.0878 - val_loss: 0.0827\n",
            "Epoch 3/100\n",
            "469/469 [==============================] - 145s 309ms/step - loss: 0.0829 - val_loss: 0.0802\n",
            "Epoch 4/100\n",
            "469/469 [==============================] - 146s 311ms/step - loss: 0.0806 - val_loss: 0.0788\n",
            "Epoch 5/100\n",
            "469/469 [==============================] - 145s 310ms/step - loss: 0.0792 - val_loss: 0.0778\n",
            "Epoch 6/100\n",
            "469/469 [==============================] - 145s 309ms/step - loss: 0.0782 - val_loss: 0.0771\n",
            "Epoch 7/100\n",
            "469/469 [==============================] - 144s 307ms/step - loss: 0.0775 - val_loss: 0.0764\n",
            "Epoch 8/100\n",
            "469/469 [==============================] - 144s 308ms/step - loss: 0.0768 - val_loss: 0.0763\n",
            "Epoch 9/100\n",
            "469/469 [==============================] - 145s 310ms/step - loss: 0.0763 - val_loss: 0.0757\n",
            "Epoch 10/100\n",
            "469/469 [==============================] - 145s 308ms/step - loss: 0.0760 - val_loss: 0.0755\n",
            "Epoch 11/100\n",
            "469/469 [==============================] - 145s 308ms/step - loss: 0.0758 - val_loss: 0.0752\n",
            "Epoch 12/100\n",
            "469/469 [==============================] - 145s 309ms/step - loss: 0.0756 - val_loss: 0.0749\n",
            "Epoch 13/100\n",
            "469/469 [==============================] - 145s 309ms/step - loss: 0.0754 - val_loss: 0.0750\n",
            "Epoch 14/100\n",
            "469/469 [==============================] - 145s 309ms/step - loss: 0.0752 - val_loss: 0.0745\n",
            "Epoch 15/100\n",
            "469/469 [==============================] - 145s 310ms/step - loss: 0.0752 - val_loss: 0.0745\n",
            "Epoch 16/100\n",
            "469/469 [==============================] - 145s 309ms/step - loss: 0.0749 - val_loss: 0.0743\n",
            "Epoch 17/100\n",
            "469/469 [==============================] - 145s 309ms/step - loss: 0.0745 - val_loss: 0.0742\n",
            "Epoch 18/100\n",
            "469/469 [==============================] - 144s 306ms/step - loss: 0.0746 - val_loss: 0.0741\n",
            "Epoch 19/100\n",
            "469/469 [==============================] - 144s 308ms/step - loss: 0.0744 - val_loss: 0.0739\n",
            "Epoch 20/100\n",
            "469/469 [==============================] - 144s 308ms/step - loss: 0.0744 - val_loss: 0.0741\n",
            "Epoch 21/100\n",
            "469/469 [==============================] - 144s 308ms/step - loss: 0.0744 - val_loss: 0.0740\n",
            "Epoch 22/100\n",
            "469/469 [==============================] - 145s 308ms/step - loss: 0.0744 - val_loss: 0.0737\n",
            "Epoch 23/100\n",
            "469/469 [==============================] - 144s 307ms/step - loss: 0.0741 - val_loss: 0.0737\n",
            "Epoch 24/100\n",
            "469/469 [==============================] - 145s 309ms/step - loss: 0.0741 - val_loss: 0.0737\n",
            "Epoch 25/100\n",
            "469/469 [==============================] - 146s 310ms/step - loss: 0.0741 - val_loss: 0.0736\n",
            "Epoch 26/100\n",
            "469/469 [==============================] - 146s 310ms/step - loss: 0.0741 - val_loss: 0.0735\n",
            "Epoch 27/100\n",
            "469/469 [==============================] - 146s 312ms/step - loss: 0.0740 - val_loss: 0.0737\n",
            "Epoch 28/100\n",
            "469/469 [==============================] - 147s 313ms/step - loss: 0.0739 - val_loss: 0.0735\n",
            "Epoch 29/100\n",
            "469/469 [==============================] - 147s 313ms/step - loss: 0.0739 - val_loss: 0.0735\n",
            "Epoch 30/100\n",
            "469/469 [==============================] - 148s 316ms/step - loss: 0.0738 - val_loss: 0.0735\n",
            "Epoch 31/100\n",
            "469/469 [==============================] - 146s 312ms/step - loss: 0.0737 - val_loss: 0.0734\n",
            "Epoch 32/100\n",
            "469/469 [==============================] - 147s 314ms/step - loss: 0.0737 - val_loss: 0.0734\n",
            "Epoch 33/100\n",
            "469/469 [==============================] - 147s 313ms/step - loss: 0.0736 - val_loss: 0.0733\n",
            "Epoch 34/100\n",
            "469/469 [==============================] - 147s 313ms/step - loss: 0.0736 - val_loss: 0.0734\n",
            "Epoch 35/100\n",
            "469/469 [==============================] - 146s 311ms/step - loss: 0.0736 - val_loss: 0.0733\n",
            "Epoch 36/100\n",
            "469/469 [==============================] - 146s 312ms/step - loss: 0.0736 - val_loss: 0.0732\n",
            "Epoch 37/100\n",
            "469/469 [==============================] - 148s 316ms/step - loss: 0.0737 - val_loss: 0.0731\n",
            "Epoch 38/100\n",
            "469/469 [==============================] - 148s 315ms/step - loss: 0.0735 - val_loss: 0.0734\n",
            "Epoch 39/100\n",
            "469/469 [==============================] - 146s 311ms/step - loss: 0.0735 - val_loss: 0.0732\n",
            "Epoch 40/100\n",
            "469/469 [==============================] - 146s 311ms/step - loss: 0.0734 - val_loss: 0.0732\n",
            "Epoch 41/100\n",
            "469/469 [==============================] - 145s 309ms/step - loss: 0.0735 - val_loss: 0.0732\n",
            "Epoch 42/100\n",
            "469/469 [==============================] - 146s 310ms/step - loss: 0.0735 - val_loss: 0.0730\n",
            "Epoch 43/100\n",
            "469/469 [==============================] - 147s 313ms/step - loss: 0.0733 - val_loss: 0.0730\n",
            "Epoch 44/100\n",
            "469/469 [==============================] - 146s 311ms/step - loss: 0.0734 - val_loss: 0.0731\n",
            "Epoch 45/100\n",
            "469/469 [==============================] - 147s 314ms/step - loss: 0.0733 - val_loss: 0.0730\n",
            "Epoch 46/100\n",
            "469/469 [==============================] - 146s 312ms/step - loss: 0.0734 - val_loss: 0.0730\n",
            "Epoch 47/100\n",
            "469/469 [==============================] - 147s 313ms/step - loss: 0.0734 - val_loss: 0.0735\n",
            "Epoch 48/100\n",
            "469/469 [==============================] - 148s 315ms/step - loss: 0.0733 - val_loss: 0.0730\n",
            "Epoch 49/100\n",
            "469/469 [==============================] - 147s 313ms/step - loss: 0.0733 - val_loss: 0.0730\n",
            "Epoch 50/100\n",
            "469/469 [==============================] - 148s 315ms/step - loss: 0.0734 - val_loss: 0.0729\n",
            "Epoch 51/100\n",
            "469/469 [==============================] - 146s 312ms/step - loss: 0.0733 - val_loss: 0.0729\n",
            "Epoch 52/100\n",
            "469/469 [==============================] - 146s 312ms/step - loss: 0.0733 - val_loss: 0.0729\n",
            "Epoch 53/100\n",
            "469/469 [==============================] - 147s 313ms/step - loss: 0.0733 - val_loss: 0.0729\n",
            "Epoch 54/100\n",
            "469/469 [==============================] - 146s 311ms/step - loss: 0.0733 - val_loss: 0.0729\n",
            "Epoch 55/100\n",
            "469/469 [==============================] - 146s 311ms/step - loss: 0.0732 - val_loss: 0.0729\n",
            "Epoch 56/100\n",
            "469/469 [==============================] - 146s 312ms/step - loss: 0.0732 - val_loss: 0.0730\n",
            "Epoch 57/100\n",
            "469/469 [==============================] - 146s 312ms/step - loss: 0.0733 - val_loss: 0.0731\n",
            "Epoch 58/100\n",
            "469/469 [==============================] - 145s 310ms/step - loss: 0.0733 - val_loss: 0.0728\n",
            "Epoch 59/100\n",
            "469/469 [==============================] - 146s 310ms/step - loss: 0.0732 - val_loss: 0.0731\n",
            "Epoch 60/100\n",
            "469/469 [==============================] - 146s 310ms/step - loss: 0.0730 - val_loss: 0.0729\n",
            "Epoch 61/100\n",
            "469/469 [==============================] - 146s 311ms/step - loss: 0.0730 - val_loss: 0.0728\n",
            "Epoch 62/100\n",
            "469/469 [==============================] - 146s 311ms/step - loss: 0.0731 - val_loss: 0.0728\n",
            "Epoch 63/100\n",
            "469/469 [==============================] - 146s 312ms/step - loss: 0.0731 - val_loss: 0.0728\n",
            "Epoch 64/100\n",
            "469/469 [==============================] - 146s 311ms/step - loss: 0.0732 - val_loss: 0.0728\n",
            "Epoch 65/100\n",
            "469/469 [==============================] - 146s 310ms/step - loss: 0.0732 - val_loss: 0.0728\n",
            "Epoch 66/100\n",
            "469/469 [==============================] - 146s 311ms/step - loss: 0.0731 - val_loss: 0.0728\n",
            "Epoch 67/100\n",
            "469/469 [==============================] - 146s 311ms/step - loss: 0.0731 - val_loss: 0.0729\n",
            "Epoch 68/100\n",
            "469/469 [==============================] - 146s 311ms/step - loss: 0.0731 - val_loss: 0.0728\n",
            "Epoch 69/100\n",
            "469/469 [==============================] - 145s 310ms/step - loss: 0.0731 - val_loss: 0.0727\n",
            "Epoch 70/100\n",
            "469/469 [==============================] - 145s 310ms/step - loss: 0.0731 - val_loss: 0.0728\n",
            "Epoch 71/100\n",
            "469/469 [==============================] - 146s 311ms/step - loss: 0.0731 - val_loss: 0.0728\n",
            "Epoch 72/100\n",
            "469/469 [==============================] - 146s 310ms/step - loss: 0.0731 - val_loss: 0.0728\n",
            "Epoch 73/100\n",
            "469/469 [==============================] - 146s 311ms/step - loss: 0.0730 - val_loss: 0.0729\n",
            "Epoch 74/100\n",
            "469/469 [==============================] - 146s 311ms/step - loss: 0.0730 - val_loss: 0.0727\n",
            "Epoch 75/100\n",
            "469/469 [==============================] - 145s 309ms/step - loss: 0.0731 - val_loss: 0.0728\n",
            "Epoch 76/100\n",
            "469/469 [==============================] - 145s 309ms/step - loss: 0.0730 - val_loss: 0.0727\n",
            "Epoch 77/100\n",
            "469/469 [==============================] - 145s 309ms/step - loss: 0.0729 - val_loss: 0.0728\n",
            "Epoch 78/100\n",
            "469/469 [==============================] - 145s 310ms/step - loss: 0.0729 - val_loss: 0.0727\n",
            "Epoch 79/100\n",
            "469/469 [==============================] - 145s 310ms/step - loss: 0.0730 - val_loss: 0.0729\n",
            "Epoch 80/100\n",
            "469/469 [==============================] - 146s 311ms/step - loss: 0.0730 - val_loss: 0.0727\n",
            "Epoch 81/100\n",
            "469/469 [==============================] - 145s 309ms/step - loss: 0.0730 - val_loss: 0.0726\n",
            "Epoch 82/100\n",
            "469/469 [==============================] - 145s 309ms/step - loss: 0.0730 - val_loss: 0.0727\n",
            "Epoch 83/100\n",
            "469/469 [==============================] - 145s 309ms/step - loss: 0.0730 - val_loss: 0.0727\n",
            "Epoch 84/100\n",
            "469/469 [==============================] - 145s 309ms/step - loss: 0.0728 - val_loss: 0.0726\n",
            "Epoch 85/100\n",
            "469/469 [==============================] - 145s 310ms/step - loss: 0.0730 - val_loss: 0.0727\n",
            "Epoch 86/100\n",
            "469/469 [==============================] - 145s 310ms/step - loss: 0.0730 - val_loss: 0.0727\n",
            "Epoch 87/100\n",
            "469/469 [==============================] - 145s 309ms/step - loss: 0.0730 - val_loss: 0.0728\n",
            "Epoch 88/100\n",
            "469/469 [==============================] - 145s 310ms/step - loss: 0.0729 - val_loss: 0.0727\n",
            "Epoch 89/100\n",
            "469/469 [==============================] - 146s 312ms/step - loss: 0.0730 - val_loss: 0.0726\n",
            "Epoch 90/100\n",
            "469/469 [==============================] - 146s 311ms/step - loss: 0.0729 - val_loss: 0.0726\n",
            "Epoch 91/100\n",
            "469/469 [==============================] - 146s 312ms/step - loss: 0.0729 - val_loss: 0.0729\n",
            "Epoch 92/100\n",
            "469/469 [==============================] - 146s 312ms/step - loss: 0.0730 - val_loss: 0.0726\n",
            "Epoch 93/100\n",
            "469/469 [==============================] - 147s 312ms/step - loss: 0.0729 - val_loss: 0.0726\n",
            "Epoch 94/100\n",
            "469/469 [==============================] - 146s 312ms/step - loss: 0.0729 - val_loss: 0.0726\n",
            "Epoch 95/100\n",
            "469/469 [==============================] - 146s 312ms/step - loss: 0.0727 - val_loss: 0.0727\n",
            "Epoch 96/100\n",
            "469/469 [==============================] - 147s 313ms/step - loss: 0.0729 - val_loss: 0.0727\n",
            "Epoch 97/100\n",
            "469/469 [==============================] - 147s 313ms/step - loss: 0.0729 - val_loss: 0.0726\n",
            "Epoch 98/100\n",
            "469/469 [==============================] - 147s 312ms/step - loss: 0.0729 - val_loss: 0.0726\n",
            "Epoch 99/100\n",
            "469/469 [==============================] - 147s 314ms/step - loss: 0.0729 - val_loss: 0.0727\n",
            "Epoch 100/100\n",
            "469/469 [==============================] - 146s 312ms/step - loss: 0.0730 - val_loss: 0.0726\n"
          ],
          "name": "stdout"
        },
        {
          "output_type": "execute_result",
          "data": {
            "text/plain": [
              "<tensorflow.python.keras.callbacks.History at 0x7efc06623780>"
            ]
          },
          "metadata": {
            "tags": []
          },
          "execution_count": 13
        }
      ]
    },
    {
      "cell_type": "code",
      "metadata": {
        "id": "mlgInf93_1AM"
      },
      "source": [
        "all_denoised_images = autoencoder.predict(X_test_noisy_25)\r\n"
      ],
      "execution_count": 16,
      "outputs": []
    },
    {
      "cell_type": "code",
      "metadata": {
        "colab": {
          "base_uri": "https://localhost:8080/"
        },
        "id": "2Mr7trB1__7i",
        "outputId": "05dc1a71-410b-4b71-82bc-042e4a132cae"
      },
      "source": [
        "test_loss  = autoencoder.evaluate(X_test_noisy_25, X_test, batch_size = 20)\r\n"
      ],
      "execution_count": 18,
      "outputs": [
        {
          "output_type": "stream",
          "text": [
            "500/500 [==============================] - 7s 15ms/step - loss: 0.0726\n"
          ],
          "name": "stdout"
        }
      ]
    },
    {
      "cell_type": "code",
      "metadata": {
        "colab": {
          "base_uri": "https://localhost:8080/"
        },
        "id": "FuJlA2koAMlj",
        "outputId": "13160ad1-b9df-4607-f6b3-9b9440cb54fd"
      },
      "source": [
        "print(test_loss)"
      ],
      "execution_count": 19,
      "outputs": [
        {
          "output_type": "stream",
          "text": [
            "0.07262732833623886\n"
          ],
          "name": "stdout"
        }
      ]
    },
    {
      "cell_type": "code",
      "metadata": {
        "colab": {
          "base_uri": "https://localhost:8080/",
          "height": 485
        },
        "id": "M4_5IIg-AibT",
        "outputId": "a2d8b12b-978c-4845-dc26-3bcabe9f0a4d"
      },
      "source": [
        "dimension = X_train.shape[1]\r\n",
        "n = 3\r\n",
        "for i in range(n):\r\n",
        "    fig, axes = plt.subplots(1, 3)\r\n",
        "    fig.set_size_inches(8, 2)\r\n",
        "    axes[0].set_title('Noisy image')\r\n",
        "    im0 = axes[0].imshow(X_test_noisy_25[i].reshape(dimension, dimension), cmap = 'Reds')\r\n",
        "    axes[1].set_title('Target image')\r\n",
        "    im1 = axes[1].imshow(X_test[i].reshape(dimension, dimension), cmap = 'Reds')\r\n",
        "    axes[2].set_title('Denoised image')\r\n",
        "    im2 = axes[2].imshow(all_denoised_images[i].reshape(dimension, dimension), cmap = 'Reds')\r\n",
        "    plt.savefig(f'comparison-{i}.png')"
      ],
      "execution_count": 22,
      "outputs": [
        {
          "output_type": "display_data",
          "data": {
            "image/png": "[encoded data removed]",
            "text/plain": [
              "<Figure size 576x144 with 3 Axes>"
            ]
          },
          "metadata": {
            "tags": [],
            "needs_background": "light"
          }
        },
        {
          "output_type": "display_data",
          "data": {
            "image/png": "[encoded data removed]",
            "text/plain": [
              "<Figure size 576x144 with 3 Axes>"
            ]
          },
          "metadata": {
            "tags": [],
            "needs_background": "light"
          }
        },
        {
          "output_type": "display_data",
          "data": {
            "image/png": "[encoded data removed]",
            "text/plain": [
              "<Figure size 576x144 with 3 Axes>"
            ]
          },
          "metadata": {
            "tags": [],
            "needs_background": "light"
          }
        }
      ]
    }
  ]
}