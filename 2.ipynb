{
  "nbformat": 4,
  "nbformat_minor": 0,
  "metadata": {
    "colab": {
      "name": "2",
      "provenance": [],
      "collapsed_sections": []
    },
    "kernelspec": {
      "name": "python3",
      "display_name": "Python 3"
    }
  },
  "cells": [
    {
      "cell_type": "code",
      "metadata": {
        "id": "mgadDiWqlrQm"
      },
      "source": [
        "## Import libraries\r\n",
        "import numpy as np\r\n",
        "from matplotlib import pyplot as plt\r\n",
        "from tensorflow import keras\r\n",
        "from keras.datasets import mnist\r\n",
        "from tensorflow.keras import layers\r\n",
        "from keras.layers import Dense, Conv2D, Flatten\r\n"
      ],
      "execution_count": null,
      "outputs": []
    },
    {
      "cell_type": "code",
      "metadata": {
        "id": "VZD5l8_loM3B",
        "colab": {
          "base_uri": "https://localhost:8080/"
        },
        "outputId": "48ed7563-24e5-4630-ba5d-a3bd8bb68aca"
      },
      "source": [
        "# Load test and train data\r\n",
        "(X_train, Y_train), (X_test, Y_test) = mnist.load_data()"
      ],
      "execution_count": null,
      "outputs": [
        {
          "output_type": "stream",
          "text": [
            "Downloading data from https://storage.googleapis.com/tensorflow/tf-keras-datasets/mnist.npz\n",
            "11493376/11490434 [==============================] - 0s 0us/step\n"
          ],
          "name": "stdout"
        }
      ]
    },
    {
      "cell_type": "code",
      "metadata": {
        "colab": {
          "base_uri": "https://localhost:8080/"
        },
        "id": "bqHV41mevSQC",
        "outputId": "bd0b296a-28ee-40d4-8842-b52de2e9af04"
      },
      "source": [
        "# Understanding test and train data\r\n",
        "print(type(X_train))\r\n",
        "print(type(Y_train))\r\n",
        "print(type(X_test))\r\n",
        "print(type(Y_test))\r\n",
        "\r\n",
        "print(X_train.shape) \r\n",
        "print(Y_train.shape) \r\n",
        "print(X_test.shape) \r\n",
        "print(Y_test.shape)"
      ],
      "execution_count": null,
      "outputs": [
        {
          "output_type": "stream",
          "text": [
            "<class 'numpy.ndarray'>\n",
            "<class 'numpy.ndarray'>\n",
            "<class 'numpy.ndarray'>\n",
            "<class 'numpy.ndarray'>\n",
            "(60000, 28, 28)\n",
            "(60000,)\n",
            "(10000, 28, 28)\n",
            "(10000,)\n"
          ],
          "name": "stdout"
        }
      ]
    },
    {
      "cell_type": "code",
      "metadata": {
        "colab": {
          "base_uri": "https://localhost:8080/"
        },
        "id": "OKIhKDERwhK1",
        "outputId": "544712bb-9d02-486c-a5ac-6b819147576a"
      },
      "source": [
        "X_train = np.expand_dims(X_train, -1)\r\n",
        "X_test = np.expand_dims(X_test, -1)\r\n",
        "\r\n",
        "X_train = X_train.astype('float32')\r\n",
        "X_test = X_test.astype('float32')\r\n",
        "\r\n",
        "# check the min and max values\r\n",
        "np.min(X_train), np.max(X_train)\r\n",
        "#np.min(Y_train), np.max(Y_test)\r\n",
        "\r\n"
      ],
      "execution_count": null,
      "outputs": [
        {
          "output_type": "execute_result",
          "data": {
            "text/plain": [
              "(0.0, 255.0)"
            ]
          },
          "metadata": {
            "tags": []
          },
          "execution_count": 4
        }
      ]
    },
    {
      "cell_type": "code",
      "metadata": {
        "colab": {
          "base_uri": "https://localhost:8080/"
        },
        "id": "RyUT4V14ygWA",
        "outputId": "0e453722-c3c3-4254-8e72-560c8b411a26"
      },
      "source": [
        "# Normalize the data\r\n",
        "X_train /= 255\r\n",
        "X_test /= 255\r\n",
        "\r\n",
        "# Check min and max values\r\n",
        "np.min(X_train), np.max(X_train)\r\n"
      ],
      "execution_count": null,
      "outputs": [
        {
          "output_type": "execute_result",
          "data": {
            "text/plain": [
              "(0.0, 1.0)"
            ]
          },
          "metadata": {
            "tags": []
          },
          "execution_count": 5
        }
      ]
    },
    {
      "cell_type": "code",
      "metadata": {
        "id": "WaYwCAPszowS"
      },
      "source": [
        "# make y data categorical\r\n",
        "no_of_classes = 10\r\n",
        "Y_train = keras.utils.to_categorical(Y_train, no_of_classes)\r\n",
        "Y_test = keras.utils.to_categorical(Y_test, no_of_classes)"
      ],
      "execution_count": null,
      "outputs": []
    },
    {
      "cell_type": "code",
      "metadata": {
        "id": "eZ1mdBa412Bg"
      },
      "source": [
        "# Model\r\n",
        "model = keras.Sequential()\r\n",
        "\r\n",
        "# Add Layers\r\n",
        "model.add(layers.Conv2D(32, (3, 3), activation='relu', input_shape=(28, 28, 1)))\r\n",
        "model.add(layers.MaxPooling2D((2, 2)))\r\n",
        "model.add(layers.Conv2D(64, (3, 3), activation='relu'))\r\n",
        "model.add(layers.MaxPooling2D((2, 2)))\r\n",
        "model.add(Flatten())\r\n",
        "model.add(Dense(10, activation='softmax'))"
      ],
      "execution_count": null,
      "outputs": []
    },
    {
      "cell_type": "code",
      "metadata": {
        "colab": {
          "base_uri": "https://localhost:8080/"
        },
        "id": "cfEsBUl55uFZ",
        "outputId": "18c8f826-c398-4459-e5ce-699cf4396208"
      },
      "source": [
        "# Model summary\r\n",
        "model.summary()"
      ],
      "execution_count": null,
      "outputs": [
        {
          "output_type": "stream",
          "text": [
            "Model: \"sequential\"\n",
            "_________________________________________________________________\n",
            "Layer (type)                 Output Shape              Param #   \n",
            "=================================================================\n",
            "conv2d (Conv2D)              (None, 26, 26, 32)        320       \n",
            "_________________________________________________________________\n",
            "max_pooling2d (MaxPooling2D) (None, 13, 13, 32)        0         \n",
            "_________________________________________________________________\n",
            "conv2d_1 (Conv2D)            (None, 11, 11, 64)        18496     \n",
            "_________________________________________________________________\n",
            "max_pooling2d_1 (MaxPooling2 (None, 5, 5, 64)          0         \n",
            "_________________________________________________________________\n",
            "flatten (Flatten)            (None, 1600)              0         \n",
            "_________________________________________________________________\n",
            "dense (Dense)                (None, 10)                16010     \n",
            "=================================================================\n",
            "Total params: 34,826\n",
            "Trainable params: 34,826\n",
            "Non-trainable params: 0\n",
            "_________________________________________________________________\n"
          ],
          "name": "stdout"
        }
      ]
    },
    {
      "cell_type": "code",
      "metadata": {
        "id": "Gtqm7cDd5wbW"
      },
      "source": [
        "# Compile the model\r\n",
        "model.compile(optimizer='adam', loss='categorical_crossentropy', metrics=['accuracy'])\r\n"
      ],
      "execution_count": null,
      "outputs": []
    },
    {
      "cell_type": "code",
      "metadata": {
        "id": "QTSgsETS4XUz"
      },
      "source": [
        "# Add noise\r\n",
        "noise_factor = 0.25\r\n",
        "X_train_noisy_25 = X_train + noise_factor * np.random.normal(loc=0.0, scale=1.0, size=X_train.shape)\r\n",
        "X_test_noisy_25 = X_test + noise_factor * np.random.normal(loc=0.0, scale=1.0, size=X_test.shape)\r\n",
        "X_train_noisy_25 = np.clip(X_train_noisy_25, 0. , 1.)\r\n",
        "X_test_noisy_25 = np.clip(X_test_noisy_25, 0. , 1.)"
      ],
      "execution_count": null,
      "outputs": []
    },
    {
      "cell_type": "code",
      "metadata": {
        "colab": {
          "base_uri": "https://localhost:8080/"
        },
        "id": "_MLswrJk86T_",
        "outputId": "8b49035b-8d43-4fa5-d52c-b4158e06751d"
      },
      "source": [
        "# Fit the model with \r\n",
        "model.fit(X_train_noisy_25, Y_train, batch_size=128, epochs=15, validation_split=0.1)\r\n"
      ],
      "execution_count": null,
      "outputs": [
        {
          "output_type": "stream",
          "text": [
            "Epoch 1/15\n",
            "422/422 [==============================] - 40s 93ms/step - loss: 0.7806 - accuracy: 0.7828 - val_loss: 0.1172 - val_accuracy: 0.9688\n",
            "Epoch 2/15\n",
            "422/422 [==============================] - 38s 90ms/step - loss: 0.1230 - accuracy: 0.9632 - val_loss: 0.0871 - val_accuracy: 0.9750\n",
            "Epoch 3/15\n",
            "422/422 [==============================] - 38s 90ms/step - loss: 0.0899 - accuracy: 0.9730 - val_loss: 0.0668 - val_accuracy: 0.9805\n",
            "Epoch 4/15\n",
            "422/422 [==============================] - 39s 92ms/step - loss: 0.0734 - accuracy: 0.9773 - val_loss: 0.0603 - val_accuracy: 0.9823\n",
            "Epoch 5/15\n",
            "422/422 [==============================] - 38s 91ms/step - loss: 0.0575 - accuracy: 0.9824 - val_loss: 0.0615 - val_accuracy: 0.9827\n",
            "Epoch 6/15\n",
            "422/422 [==============================] - 39s 92ms/step - loss: 0.0542 - accuracy: 0.9831 - val_loss: 0.0498 - val_accuracy: 0.9862\n",
            "Epoch 7/15\n",
            "422/422 [==============================] - 38s 91ms/step - loss: 0.0429 - accuracy: 0.9866 - val_loss: 0.0513 - val_accuracy: 0.9853\n",
            "Epoch 8/15\n",
            "422/422 [==============================] - 38s 91ms/step - loss: 0.0394 - accuracy: 0.9877 - val_loss: 0.0514 - val_accuracy: 0.9852\n",
            "Epoch 9/15\n",
            "422/422 [==============================] - 38s 91ms/step - loss: 0.0322 - accuracy: 0.9899 - val_loss: 0.0536 - val_accuracy: 0.9850\n",
            "Epoch 10/15\n",
            "422/422 [==============================] - 38s 90ms/step - loss: 0.0312 - accuracy: 0.9909 - val_loss: 0.0545 - val_accuracy: 0.9848\n",
            "Epoch 11/15\n",
            "422/422 [==============================] - 38s 90ms/step - loss: 0.0248 - accuracy: 0.9915 - val_loss: 0.0467 - val_accuracy: 0.9860\n",
            "Epoch 12/15\n",
            "422/422 [==============================] - 38s 91ms/step - loss: 0.0221 - accuracy: 0.9933 - val_loss: 0.0519 - val_accuracy: 0.9862\n",
            "Epoch 13/15\n",
            "422/422 [==============================] - 42s 98ms/step - loss: 0.0205 - accuracy: 0.9937 - val_loss: 0.0484 - val_accuracy: 0.9872\n",
            "Epoch 14/15\n",
            "422/422 [==============================] - 41s 97ms/step - loss: 0.0170 - accuracy: 0.9946 - val_loss: 0.0500 - val_accuracy: 0.9875\n",
            "Epoch 15/15\n",
            "422/422 [==============================] - 38s 91ms/step - loss: 0.0158 - accuracy: 0.9950 - val_loss: 0.0492 - val_accuracy: 0.9875\n"
          ],
          "name": "stdout"
        },
        {
          "output_type": "execute_result",
          "data": {
            "text/plain": [
              "<tensorflow.python.keras.callbacks.History at 0x7f59a8d7ba90>"
            ]
          },
          "metadata": {
            "tags": []
          },
          "execution_count": 11
        }
      ]
    },
    {
      "cell_type": "code",
      "metadata": {
        "id": "ecVbLrveR0sP",
        "colab": {
          "base_uri": "https://localhost:8080/"
        },
        "outputId": "9218c05a-5fcd-420a-822b-bc751853fbf4"
      },
      "source": [
        "# Evaluate the model\r\n",
        "score = model.evaluate(X_test_noisy_25, Y_test, verbose=0)\r\n",
        "print(\"Model accuracy: \", score[1])"
      ],
      "execution_count": null,
      "outputs": [
        {
          "output_type": "stream",
          "text": [
            "Model accuracy:  0.9857000112533569\n"
          ],
          "name": "stdout"
        }
      ]
    },
    {
      "cell_type": "code",
      "metadata": {
        "colab": {
          "base_uri": "https://localhost:8080/"
        },
        "id": "au5eFmQe5_w-",
        "outputId": "44d4b26b-936c-4218-a39e-2793fea48ff6"
      },
      "source": [
        "# Add noise\r\n",
        "noise_factor = 0.40\r\n",
        "X_train_noisy_40 = X_train + noise_factor * np.random.normal(loc=0.0, scale=1.0, size=X_train.shape)\r\n",
        "X_test_noisy_40 = X_test + noise_factor * np.random.normal(loc=0.0, scale=1.0, size=X_test.shape)\r\n",
        "X_train_noisy_40 = np.clip(X_train_noisy_40, 0. , 1.)\r\n",
        "X_test_noisy_40 = np.clip(X_test_noisy_40, 0. , 1.)\r\n",
        "\r\n",
        "model.fit(X_train_noisy_40, Y_train, batch_size=128, epochs=15, validation_split=0.1)\r\n"
      ],
      "execution_count": null,
      "outputs": [
        {
          "output_type": "stream",
          "text": [
            "Epoch 1/15\n",
            "422/422 [==============================] - 37s 87ms/step - loss: 0.0715 - accuracy: 0.9764 - val_loss: 0.0731 - val_accuracy: 0.9777\n",
            "Epoch 2/15\n",
            "422/422 [==============================] - 37s 89ms/step - loss: 0.0531 - accuracy: 0.9827 - val_loss: 0.0693 - val_accuracy: 0.9800\n",
            "Epoch 3/15\n",
            "422/422 [==============================] - 38s 90ms/step - loss: 0.0430 - accuracy: 0.9862 - val_loss: 0.0699 - val_accuracy: 0.9810\n",
            "Epoch 4/15\n",
            "422/422 [==============================] - 38s 89ms/step - loss: 0.0378 - accuracy: 0.9879 - val_loss: 0.0746 - val_accuracy: 0.9793\n",
            "Epoch 5/15\n",
            "422/422 [==============================] - 37s 89ms/step - loss: 0.0311 - accuracy: 0.9904 - val_loss: 0.0814 - val_accuracy: 0.9800\n",
            "Epoch 6/15\n",
            "422/422 [==============================] - 38s 89ms/step - loss: 0.0252 - accuracy: 0.9922 - val_loss: 0.0823 - val_accuracy: 0.9790\n",
            "Epoch 7/15\n",
            "422/422 [==============================] - 38s 89ms/step - loss: 0.0213 - accuracy: 0.9933 - val_loss: 0.0859 - val_accuracy: 0.9798\n",
            "Epoch 8/15\n",
            "422/422 [==============================] - 37s 89ms/step - loss: 0.0182 - accuracy: 0.9944 - val_loss: 0.0878 - val_accuracy: 0.9788\n",
            "Epoch 9/15\n",
            "422/422 [==============================] - 37s 89ms/step - loss: 0.0146 - accuracy: 0.9962 - val_loss: 0.0955 - val_accuracy: 0.9795\n",
            "Epoch 10/15\n",
            "422/422 [==============================] - 37s 89ms/step - loss: 0.0126 - accuracy: 0.9964 - val_loss: 0.0979 - val_accuracy: 0.9773\n",
            "Epoch 11/15\n",
            "422/422 [==============================] - 38s 89ms/step - loss: 0.0101 - accuracy: 0.9971 - val_loss: 0.1064 - val_accuracy: 0.9785\n",
            "Epoch 12/15\n",
            "422/422 [==============================] - 37s 89ms/step - loss: 0.0076 - accuracy: 0.9982 - val_loss: 0.1128 - val_accuracy: 0.9775\n",
            "Epoch 13/15\n",
            "422/422 [==============================] - 37s 88ms/step - loss: 0.0075 - accuracy: 0.9979 - val_loss: 0.1158 - val_accuracy: 0.9762\n",
            "Epoch 14/15\n",
            "422/422 [==============================] - 38s 89ms/step - loss: 0.0058 - accuracy: 0.9986 - val_loss: 0.1170 - val_accuracy: 0.9773\n",
            "Epoch 15/15\n",
            "422/422 [==============================] - 37s 88ms/step - loss: 0.0055 - accuracy: 0.9986 - val_loss: 0.1277 - val_accuracy: 0.9760\n"
          ],
          "name": "stdout"
        },
        {
          "output_type": "execute_result",
          "data": {
            "text/plain": [
              "<tensorflow.python.keras.callbacks.History at 0x7f59a080d320>"
            ]
          },
          "metadata": {
            "tags": []
          },
          "execution_count": 17
        }
      ]
    },
    {
      "cell_type": "code",
      "metadata": {
        "id": "wavwoaMtR8w7",
        "colab": {
          "base_uri": "https://localhost:8080/"
        },
        "outputId": "a523f144-3700-4972-9b39-a757eee54b19"
      },
      "source": [
        "# Evaluate the model\r\n",
        "score = model.evaluate(X_test_noisy_40, Y_test, verbose=0)\r\n",
        "print(\"Model accuracy: \", score[1])"
      ],
      "execution_count": null,
      "outputs": [
        {
          "output_type": "stream",
          "text": [
            "Model accuracy:  0.9739000201225281\n"
          ],
          "name": "stdout"
        }
      ]
    },
    {
      "cell_type": "code",
      "metadata": {
        "colab": {
          "base_uri": "https://localhost:8080/"
        },
        "id": "kAwqDGT59vkJ",
        "outputId": "a600e560-417f-4b49-98cf-977e45ca92fc"
      },
      "source": [
        "# Add noise\r\n",
        "noise_factor = 0.50\r\n",
        "X_train_noisy_50 = X_train + noise_factor * np.random.normal(loc=0.0, scale=1.0, size=X_train.shape)\r\n",
        "X_test_noisy_50 = X_test + noise_factor * np.random.normal(loc=0.0, scale=1.0, size=X_test.shape)\r\n",
        "X_train_noisy_50 = np.clip(X_train_noisy_50, 0. , 1.)\r\n",
        "X_test_noisy_50 = np.clip(X_test_noisy_50, 0. , 1.)\r\n",
        "\r\n",
        "model.fit(X_train_noisy_50, Y_train, batch_size=128, epochs=15, validation_split=0.1)"
      ],
      "execution_count": null,
      "outputs": [
        {
          "output_type": "stream",
          "text": [
            "Epoch 1/15\n",
            "422/422 [==============================] - 37s 88ms/step - loss: 0.1261 - accuracy: 0.9601 - val_loss: 0.0982 - val_accuracy: 0.9700\n",
            "Epoch 2/15\n",
            "422/422 [==============================] - 37s 87ms/step - loss: 0.0824 - accuracy: 0.9728 - val_loss: 0.0942 - val_accuracy: 0.9720\n",
            "Epoch 3/15\n",
            "422/422 [==============================] - 37s 88ms/step - loss: 0.0665 - accuracy: 0.9776 - val_loss: 0.0993 - val_accuracy: 0.9702\n",
            "Epoch 4/15\n",
            "422/422 [==============================] - 37s 88ms/step - loss: 0.0554 - accuracy: 0.9818 - val_loss: 0.0991 - val_accuracy: 0.9712\n",
            "Epoch 5/15\n",
            "422/422 [==============================] - 37s 88ms/step - loss: 0.0461 - accuracy: 0.9850 - val_loss: 0.1060 - val_accuracy: 0.9705\n",
            "Epoch 6/15\n",
            "422/422 [==============================] - 37s 88ms/step - loss: 0.0386 - accuracy: 0.9876 - val_loss: 0.1080 - val_accuracy: 0.9703\n",
            "Epoch 7/15\n",
            "422/422 [==============================] - 37s 89ms/step - loss: 0.0326 - accuracy: 0.9897 - val_loss: 0.1126 - val_accuracy: 0.9702\n",
            "Epoch 8/15\n",
            "422/422 [==============================] - 37s 88ms/step - loss: 0.0263 - accuracy: 0.9921 - val_loss: 0.1162 - val_accuracy: 0.9695\n",
            "Epoch 9/15\n",
            "422/422 [==============================] - 37s 89ms/step - loss: 0.0213 - accuracy: 0.9941 - val_loss: 0.1262 - val_accuracy: 0.9710\n",
            "Epoch 10/15\n",
            "422/422 [==============================] - 37s 88ms/step - loss: 0.0170 - accuracy: 0.9957 - val_loss: 0.1294 - val_accuracy: 0.9673\n",
            "Epoch 11/15\n",
            "422/422 [==============================] - 37s 88ms/step - loss: 0.0136 - accuracy: 0.9965 - val_loss: 0.1399 - val_accuracy: 0.9700\n",
            "Epoch 12/15\n",
            "422/422 [==============================] - 37s 88ms/step - loss: 0.0107 - accuracy: 0.9979 - val_loss: 0.1470 - val_accuracy: 0.9695\n",
            "Epoch 13/15\n",
            "422/422 [==============================] - 37s 89ms/step - loss: 0.0082 - accuracy: 0.9986 - val_loss: 0.1600 - val_accuracy: 0.9690\n",
            "Epoch 14/15\n",
            "422/422 [==============================] - 37s 88ms/step - loss: 0.0078 - accuracy: 0.9984 - val_loss: 0.1552 - val_accuracy: 0.9685\n",
            "Epoch 15/15\n",
            "422/422 [==============================] - 37s 88ms/step - loss: 0.0062 - accuracy: 0.9991 - val_loss: 0.1692 - val_accuracy: 0.9670\n"
          ],
          "name": "stdout"
        },
        {
          "output_type": "execute_result",
          "data": {
            "text/plain": [
              "<tensorflow.python.keras.callbacks.History at 0x7f59a193b198>"
            ]
          },
          "metadata": {
            "tags": []
          },
          "execution_count": 19
        }
      ]
    },
    {
      "cell_type": "code",
      "metadata": {
        "colab": {
          "base_uri": "https://localhost:8080/"
        },
        "id": "kAhvHrXp97zd",
        "outputId": "c2255716-a109-4d4c-ef46-012497b575ce"
      },
      "source": [
        "# Evaluate the model\r\n",
        "score = model.evaluate(X_test_noisy_50, Y_test, verbose=0)\r\n",
        "print(\"Model accuracy: \", score[1])"
      ],
      "execution_count": null,
      "outputs": [
        {
          "output_type": "stream",
          "text": [
            "Model accuracy:  0.96670001745224\n"
          ],
          "name": "stdout"
        }
      ]
    }
  ]
}